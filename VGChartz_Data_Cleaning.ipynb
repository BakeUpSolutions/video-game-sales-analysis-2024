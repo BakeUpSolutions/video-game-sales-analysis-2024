{
 "cells": [
  {
   "cell_type": "markdown",
   "id": "00e4b373",
   "metadata": {},
   "source": [
    "# Vidego Game Data Cleaning\n",
    "\n",
    "## Table of Contents\n",
    "<ul>\n",
    "<li><a href=\"#PartB\">Description of Variables</a></li>\n",
    "<li><a href=\"#PartC1\">Plan to Identify Data Anomalies</a></li>\n",
    "<li><a href=\"#PartC2\">Justification of Plan</a></li>\n",
    "<li><a href=\"#PartC3\">Justify Programming Language/Packages</a></li> \n",
    "<li><a href=\"#PartC4\">Code Used To Identify Anomalies</a></li> \n",
    "<li><a href=\"#PartD1\">Describe Anomalous Findings</a></li>\n",
    "<li><a href=\"#PartD2\">Plans For Mitigating Anomalies</a></li>\n",
    "<li><a href=\"#PartD3\">Summarize Outcomes of Cleaning Operations</a></li> \n",
    "<li><a href=\"#PartD4\">Code Used to Mitigate Anomalies</a></li> \n",
    "<li><a href=\"#PartD5\">Copy of Cleaned Data Set</a></li>\n",
    "<li><a href=\"#PartD6\">Limitations of Data Cleaning Process</a></li>\n",
    "<li><a href=\"#PartD7\">Challenges Imposed by Limitations</a></li>\n",
    "<li><a href=\"#PartE1\">List Principal Components</a></li>\n",
    "<li><a href=\"#PartE2\">Identification of Principal Components</a></li>\n",
    "<li><a href=\"#PartE3\">Benefits of Principal Component Analysis</a></li>\n",
    "<li><a href=\"#PartF\">Panopto Recording</a></li>\n",
    "<li><a href=\"#PartG\">Code References</a></li>\n",
    "<li><a href=\"#PartH\">Source References</a></li>    \n",
    "</ul>"
   ]
  },
  {
   "attachments": {},
   "cell_type": "markdown",
   "id": "f1565394",
   "metadata": {},
   "source": [
    "<a id='PartA'></a>\n",
    "## A: Research Question\n",
    "\n",
    "\n",
    "<a id='PartB'></a>\n",
    "## B: Description of Variables\n",
    "\n",
    "This dataset contains 15 separate columns, each containing a field relating to a video game. Each will be summarized here. \n",
    "\n",
    "- Title (qualitative), row 1 example: Grand Theft Auto V <br>\n",
    "This column is used to identify the title of the game.\n",
    "\n",
    "\n",
    "- Console (qualitative), row 1 example: PS3  <br>\n",
    "    This column is used to identify the console  which the game can be played on.\n",
    "\n",
    "\n",
    "- Genre (qualitative), row 1 example: Action  <br>\n",
    "This column is used to identify the type of genre the game is associated with.\n",
    "\n",
    "\n",
    "- Publisher (qualitative), row 1 example: Rockstar Games <br>\n",
    "This column is used to identify company/group/entity who published the game.\n",
    " \n",
    " \n",
    "- Developer (qualitative), row 1 example: Rockstar North <br>\n",
    "This column is used to identify company/group/entity who developed the game.\n",
    "\n",
    "\n",
    "- Critic_Score (quantitative), row 1 example: 9.4 <br>\n",
    "This column is used identify a game's review score given by professional organization on a scale of 1.0 to 10.0 points. \n",
    "\n",
    "- Total_Sales (quantitative), row 1 example: 20.32 <br>\n",
    "This column identify a game's  global sales of copies in millions.\n",
    "\n",
    "\n",
    "- NA_Sales (quantitative), row 1 example: 6.37 <br>\n",
    "This column identify a game's North American sales of copies in millions. \n",
    "\n",
    "- JP_Sales (quantitative), row 1 example: 0.99 <br>\n",
    "This columns identify a game's Japan sales of copies in millions \n",
    "\n",
    "- PAL_Sales (quantitative), row 1 example: 9.85 <br>\n",
    "This columns identify a game's Europe/Africa sales of copies in millions.\n",
    "\n",
    "- Other_Sales (quantitative), row 1 example: 3.12 <br>\n",
    "This column identify a game's other sales of copies in millions. \n",
    "\n",
    "- Release_Date (qualitative), row 1 example: 9/17/2013 <br>\n",
    "This column identify the date when the game is released \n",
    "\n",
    "- Last_Updated (qualitative), row 2 example: 1/3/2018 <br>\n",
    "This column identify the date when the data was last updated.\n",
    "\n",
    "\n",
    "<a id='PartC1'></a>\n",
    "## C1: Plan To Identify Data Anomalies\n",
    "\n",
    "To identify anomalies in the provided dataset, after importing the data from the CSV, I will use the associated data dictionary and a cursory visual exploration of the dataset to identify any common data problems. The following python functions will be used to identify datatype mismatch, duplicates, missing values, outliers, and re-expressed categorical variables: \n",
    "* Other Data Quality Issue:\n",
    "    - `info()`, `value_counts()`, and `describe()`<br><br>\n",
    "    \n",
    "* Duplicates:\n",
    "    - `duplicated()` and `.value_counts()` <br><br>\n",
    "    \n",
    "* Missing Values:\n",
    "    - `isnull().sum()` and `missingno.matrix(df, labels=True)` <br><br>\n",
    "    \n",
    "* Outliers:\n",
    "    - `describe()` and  `.boxplot(x='col_name', data=df)`<br><br>\n",
    "    \n",
    "* Re-expressed catergorical variables:\n",
    "    - `info()` and `unique()` <br><br>\n",
    "    \n",
    "<a id='PartC2'></a>\n",
    "## C2: Justification of Plan\n",
    "\n",
    "This plan approaches the data cleaning process by looking at the table as a whole and a boarder perspective by evaluating the data in each column. Using the data dictionary provided alongside the data set informs my assessments to ensure they are handled consistently with the intended usage/business interest for each variable within the dataset.\n",
    "\n",
    "The `info()` function profiles the data to identify and validate datatypes against the medical data dictionary. Once profiling is completed, we will check if any duplicates exist within the data set using `duplicated().value_counts()`. Next we will check for missing values by implementing the method chain `isnull().sum()` and visualize the variables with missing values by using `missingno.matrix(df, labels=True)`. After noting the anomalies, we will check for outliers using the `sns.boxplot(x='col_name', data=df)` on each quantitative variable. Lastly, the function`info()` will be used again to identify the categorical variables and the `unique()` function to determine if the categorical variable can and should be re-expressed.\n",
    "\n",
    "<a id='PartC3'></a>\n",
    "## C3: Justify Programming Language/Packages\n",
    "\n",
    "Python is a powerful programming language that allows for creating scripts to acquire, clean, and analyze data. The primary packages for this process are `numpy`, `pandas`, `matplotlib`, `scipy` and `missingno`. Numpy supplies math functions that are necessary for transforming the data; pandas provides a logical structure called a dataframe, which enables us to store the CSV in a spreadsheet-like format with functions to transform or standardize the data as needed and `missingno` give us visualization capabilities to verify missing values. After the data is cleaned, a Principal Component Analysis will be performed, and this is going to make use of `PCA` from `SKlearn` to perform the analysis of principal components, as well as `seaborn` to graph any scree plots used as a part of this PCA.\n",
    "\n",
    "<a id='PartC4'></a>\n",
    "## C4: Code Used To Identify Anomalies"
   ]
  },
  {
   "cell_type": "code",
   "execution_count": 1,
   "id": "27b63a77",
   "metadata": {},
   "outputs": [],
   "source": [
    "import pandas as pd\n",
    "import numpy as np\n",
    "import matplotlib.pyplot as plt\n",
    "import seaborn as sns\n",
    "from sklearn.decomposition import PCA\n",
    "from scipy import stats"
   ]
  },
  {
   "cell_type": "code",
   "execution_count": 2,
   "id": "e1889a05",
   "metadata": {
    "scrolled": false
   },
   "outputs": [
    {
     "data": {
      "text/html": [
       "<div>\n",
       "<style scoped>\n",
       "    .dataframe tbody tr th:only-of-type {\n",
       "        vertical-align: middle;\n",
       "    }\n",
       "\n",
       "    .dataframe tbody tr th {\n",
       "        vertical-align: top;\n",
       "    }\n",
       "\n",
       "    .dataframe thead th {\n",
       "        text-align: right;\n",
       "    }\n",
       "</style>\n",
       "<table border=\"1\" class=\"dataframe\">\n",
       "  <thead>\n",
       "    <tr style=\"text-align: right;\">\n",
       "      <th></th>\n",
       "      <th>CaseOrder</th>\n",
       "      <th>Customer_id</th>\n",
       "      <th>Interaction</th>\n",
       "      <th>UID</th>\n",
       "      <th>City</th>\n",
       "      <th>State</th>\n",
       "      <th>County</th>\n",
       "      <th>Zip</th>\n",
       "      <th>Lat</th>\n",
       "      <th>Lng</th>\n",
       "      <th>Population</th>\n",
       "      <th>Area</th>\n",
       "      <th>Timezone</th>\n",
       "      <th>Job</th>\n",
       "      <th>Children</th>\n",
       "      <th>Age</th>\n",
       "      <th>Education</th>\n",
       "      <th>Employment</th>\n",
       "      <th>Income</th>\n",
       "      <th>Marital</th>\n",
       "      <th>Gender</th>\n",
       "      <th>ReAdmis</th>\n",
       "      <th>VitD_levels</th>\n",
       "      <th>Doc_visits</th>\n",
       "      <th>Full_meals_eaten</th>\n",
       "      <th>VitD_supp</th>\n",
       "      <th>Soft_drink</th>\n",
       "      <th>Initial_admin</th>\n",
       "      <th>HighBlood</th>\n",
       "      <th>Stroke</th>\n",
       "      <th>Complication_risk</th>\n",
       "      <th>Overweight</th>\n",
       "      <th>Arthritis</th>\n",
       "      <th>Diabetes</th>\n",
       "      <th>Hyperlipidemia</th>\n",
       "      <th>BackPain</th>\n",
       "      <th>Anxiety</th>\n",
       "      <th>Allergic_rhinitis</th>\n",
       "      <th>Reflux_esophagitis</th>\n",
       "      <th>Asthma</th>\n",
       "      <th>Services</th>\n",
       "      <th>Initial_days</th>\n",
       "      <th>TotalCharge</th>\n",
       "      <th>Additional_charges</th>\n",
       "      <th>Item1</th>\n",
       "      <th>Item2</th>\n",
       "      <th>Item3</th>\n",
       "      <th>Item4</th>\n",
       "      <th>Item5</th>\n",
       "      <th>Item6</th>\n",
       "      <th>Item7</th>\n",
       "      <th>Item8</th>\n",
       "    </tr>\n",
       "  </thead>\n",
       "  <tbody>\n",
       "    <tr>\n",
       "      <th>1</th>\n",
       "      <td>1</td>\n",
       "      <td>C412403</td>\n",
       "      <td>8cd49b13-f45a-4b47-a2bd-173ffa932c2f</td>\n",
       "      <td>3a83ddb66e2ae73798bdf1d705dc0932</td>\n",
       "      <td>Eva</td>\n",
       "      <td>AL</td>\n",
       "      <td>Morgan</td>\n",
       "      <td>35621</td>\n",
       "      <td>34.34960</td>\n",
       "      <td>-86.72508</td>\n",
       "      <td>2951</td>\n",
       "      <td>Suburban</td>\n",
       "      <td>America/Chicago</td>\n",
       "      <td>Psychologist, sport and exercise</td>\n",
       "      <td>1.0</td>\n",
       "      <td>53.0</td>\n",
       "      <td>Some College, Less than 1 Year</td>\n",
       "      <td>Full Time</td>\n",
       "      <td>86575.93</td>\n",
       "      <td>Divorced</td>\n",
       "      <td>Male</td>\n",
       "      <td>No</td>\n",
       "      <td>17.802330</td>\n",
       "      <td>6</td>\n",
       "      <td>0</td>\n",
       "      <td>0</td>\n",
       "      <td>NaN</td>\n",
       "      <td>Emergency Admission</td>\n",
       "      <td>Yes</td>\n",
       "      <td>No</td>\n",
       "      <td>Medium</td>\n",
       "      <td>0.0</td>\n",
       "      <td>Yes</td>\n",
       "      <td>Yes</td>\n",
       "      <td>No</td>\n",
       "      <td>Yes</td>\n",
       "      <td>1.0</td>\n",
       "      <td>Yes</td>\n",
       "      <td>No</td>\n",
       "      <td>Yes</td>\n",
       "      <td>Blood Work</td>\n",
       "      <td>10.585770</td>\n",
       "      <td>3191.048774</td>\n",
       "      <td>17939.403420</td>\n",
       "      <td>3</td>\n",
       "      <td>3</td>\n",
       "      <td>2</td>\n",
       "      <td>2</td>\n",
       "      <td>4</td>\n",
       "      <td>3</td>\n",
       "      <td>3</td>\n",
       "      <td>4</td>\n",
       "    </tr>\n",
       "    <tr>\n",
       "      <th>2</th>\n",
       "      <td>2</td>\n",
       "      <td>Z919181</td>\n",
       "      <td>d2450b70-0337-4406-bdbb-bc1037f1734c</td>\n",
       "      <td>176354c5eef714957d486009feabf195</td>\n",
       "      <td>Marianna</td>\n",
       "      <td>FL</td>\n",
       "      <td>Jackson</td>\n",
       "      <td>32446</td>\n",
       "      <td>30.84513</td>\n",
       "      <td>-85.22907</td>\n",
       "      <td>11303</td>\n",
       "      <td>Urban</td>\n",
       "      <td>America/Chicago</td>\n",
       "      <td>Community development worker</td>\n",
       "      <td>3.0</td>\n",
       "      <td>51.0</td>\n",
       "      <td>Some College, 1 or More Years, No Degree</td>\n",
       "      <td>Full Time</td>\n",
       "      <td>46805.99</td>\n",
       "      <td>Married</td>\n",
       "      <td>Female</td>\n",
       "      <td>No</td>\n",
       "      <td>18.994640</td>\n",
       "      <td>4</td>\n",
       "      <td>2</td>\n",
       "      <td>1</td>\n",
       "      <td>No</td>\n",
       "      <td>Emergency Admission</td>\n",
       "      <td>Yes</td>\n",
       "      <td>No</td>\n",
       "      <td>High</td>\n",
       "      <td>1.0</td>\n",
       "      <td>No</td>\n",
       "      <td>No</td>\n",
       "      <td>No</td>\n",
       "      <td>No</td>\n",
       "      <td>NaN</td>\n",
       "      <td>No</td>\n",
       "      <td>Yes</td>\n",
       "      <td>No</td>\n",
       "      <td>Intravenous</td>\n",
       "      <td>15.129562</td>\n",
       "      <td>4214.905346</td>\n",
       "      <td>17612.998120</td>\n",
       "      <td>3</td>\n",
       "      <td>4</td>\n",
       "      <td>3</td>\n",
       "      <td>4</td>\n",
       "      <td>4</td>\n",
       "      <td>4</td>\n",
       "      <td>3</td>\n",
       "      <td>3</td>\n",
       "    </tr>\n",
       "    <tr>\n",
       "      <th>3</th>\n",
       "      <td>3</td>\n",
       "      <td>F995323</td>\n",
       "      <td>a2057123-abf5-4a2c-abad-8ffe33512562</td>\n",
       "      <td>e19a0fa00aeda885b8a436757e889bc9</td>\n",
       "      <td>Sioux Falls</td>\n",
       "      <td>SD</td>\n",
       "      <td>Minnehaha</td>\n",
       "      <td>57110</td>\n",
       "      <td>43.54321</td>\n",
       "      <td>-96.63772</td>\n",
       "      <td>17125</td>\n",
       "      <td>Suburban</td>\n",
       "      <td>America/Chicago</td>\n",
       "      <td>Chief Executive Officer</td>\n",
       "      <td>3.0</td>\n",
       "      <td>53.0</td>\n",
       "      <td>Some College, 1 or More Years, No Degree</td>\n",
       "      <td>Retired</td>\n",
       "      <td>14370.14</td>\n",
       "      <td>Widowed</td>\n",
       "      <td>Female</td>\n",
       "      <td>No</td>\n",
       "      <td>17.415889</td>\n",
       "      <td>4</td>\n",
       "      <td>1</td>\n",
       "      <td>0</td>\n",
       "      <td>No</td>\n",
       "      <td>Elective Admission</td>\n",
       "      <td>Yes</td>\n",
       "      <td>No</td>\n",
       "      <td>Medium</td>\n",
       "      <td>1.0</td>\n",
       "      <td>No</td>\n",
       "      <td>Yes</td>\n",
       "      <td>No</td>\n",
       "      <td>No</td>\n",
       "      <td>NaN</td>\n",
       "      <td>No</td>\n",
       "      <td>No</td>\n",
       "      <td>No</td>\n",
       "      <td>Blood Work</td>\n",
       "      <td>4.772177</td>\n",
       "      <td>2177.586768</td>\n",
       "      <td>17505.192460</td>\n",
       "      <td>2</td>\n",
       "      <td>4</td>\n",
       "      <td>4</td>\n",
       "      <td>4</td>\n",
       "      <td>3</td>\n",
       "      <td>4</td>\n",
       "      <td>3</td>\n",
       "      <td>3</td>\n",
       "    </tr>\n",
       "    <tr>\n",
       "      <th>4</th>\n",
       "      <td>4</td>\n",
       "      <td>A879973</td>\n",
       "      <td>1dec528d-eb34-4079-adce-0d7a40e82205</td>\n",
       "      <td>cd17d7b6d152cb6f23957346d11c3f07</td>\n",
       "      <td>New Richland</td>\n",
       "      <td>MN</td>\n",
       "      <td>Waseca</td>\n",
       "      <td>56072</td>\n",
       "      <td>43.89744</td>\n",
       "      <td>-93.51479</td>\n",
       "      <td>2162</td>\n",
       "      <td>Suburban</td>\n",
       "      <td>America/Chicago</td>\n",
       "      <td>Early years teacher</td>\n",
       "      <td>0.0</td>\n",
       "      <td>78.0</td>\n",
       "      <td>GED or Alternative Credential</td>\n",
       "      <td>Retired</td>\n",
       "      <td>39741.49</td>\n",
       "      <td>Married</td>\n",
       "      <td>Male</td>\n",
       "      <td>No</td>\n",
       "      <td>17.420079</td>\n",
       "      <td>4</td>\n",
       "      <td>1</td>\n",
       "      <td>0</td>\n",
       "      <td>No</td>\n",
       "      <td>Elective Admission</td>\n",
       "      <td>No</td>\n",
       "      <td>Yes</td>\n",
       "      <td>Medium</td>\n",
       "      <td>0.0</td>\n",
       "      <td>Yes</td>\n",
       "      <td>No</td>\n",
       "      <td>No</td>\n",
       "      <td>No</td>\n",
       "      <td>NaN</td>\n",
       "      <td>No</td>\n",
       "      <td>Yes</td>\n",
       "      <td>Yes</td>\n",
       "      <td>Blood Work</td>\n",
       "      <td>1.714879</td>\n",
       "      <td>2465.118965</td>\n",
       "      <td>12993.437350</td>\n",
       "      <td>3</td>\n",
       "      <td>5</td>\n",
       "      <td>5</td>\n",
       "      <td>3</td>\n",
       "      <td>4</td>\n",
       "      <td>5</td>\n",
       "      <td>5</td>\n",
       "      <td>5</td>\n",
       "    </tr>\n",
       "    <tr>\n",
       "      <th>5</th>\n",
       "      <td>5</td>\n",
       "      <td>C544523</td>\n",
       "      <td>5885f56b-d6da-43a3-8760-83583af94266</td>\n",
       "      <td>d2f0425877b10ed6bb381f3e2579424a</td>\n",
       "      <td>West Point</td>\n",
       "      <td>VA</td>\n",
       "      <td>King William</td>\n",
       "      <td>23181</td>\n",
       "      <td>37.59894</td>\n",
       "      <td>-76.88958</td>\n",
       "      <td>5287</td>\n",
       "      <td>Rural</td>\n",
       "      <td>America/New_York</td>\n",
       "      <td>Health promotion specialist</td>\n",
       "      <td>NaN</td>\n",
       "      <td>22.0</td>\n",
       "      <td>Regular High School Diploma</td>\n",
       "      <td>Full Time</td>\n",
       "      <td>1209.56</td>\n",
       "      <td>Widowed</td>\n",
       "      <td>Female</td>\n",
       "      <td>No</td>\n",
       "      <td>16.870524</td>\n",
       "      <td>5</td>\n",
       "      <td>0</td>\n",
       "      <td>2</td>\n",
       "      <td>Yes</td>\n",
       "      <td>Elective Admission</td>\n",
       "      <td>No</td>\n",
       "      <td>No</td>\n",
       "      <td>Low</td>\n",
       "      <td>0.0</td>\n",
       "      <td>No</td>\n",
       "      <td>No</td>\n",
       "      <td>Yes</td>\n",
       "      <td>No</td>\n",
       "      <td>0.0</td>\n",
       "      <td>Yes</td>\n",
       "      <td>No</td>\n",
       "      <td>No</td>\n",
       "      <td>CT Scan</td>\n",
       "      <td>1.254807</td>\n",
       "      <td>1885.655137</td>\n",
       "      <td>3716.525786</td>\n",
       "      <td>2</td>\n",
       "      <td>1</td>\n",
       "      <td>3</td>\n",
       "      <td>3</td>\n",
       "      <td>5</td>\n",
       "      <td>3</td>\n",
       "      <td>4</td>\n",
       "      <td>3</td>\n",
       "    </tr>\n",
       "  </tbody>\n",
       "</table>\n",
       "</div>"
      ],
      "text/plain": [
       "   CaseOrder Customer_id                           Interaction  \\\n",
       "1          1     C412403  8cd49b13-f45a-4b47-a2bd-173ffa932c2f   \n",
       "2          2     Z919181  d2450b70-0337-4406-bdbb-bc1037f1734c   \n",
       "3          3     F995323  a2057123-abf5-4a2c-abad-8ffe33512562   \n",
       "4          4     A879973  1dec528d-eb34-4079-adce-0d7a40e82205   \n",
       "5          5     C544523  5885f56b-d6da-43a3-8760-83583af94266   \n",
       "\n",
       "                                UID          City State        County    Zip  \\\n",
       "1  3a83ddb66e2ae73798bdf1d705dc0932           Eva    AL        Morgan  35621   \n",
       "2  176354c5eef714957d486009feabf195      Marianna    FL       Jackson  32446   \n",
       "3  e19a0fa00aeda885b8a436757e889bc9   Sioux Falls    SD     Minnehaha  57110   \n",
       "4  cd17d7b6d152cb6f23957346d11c3f07  New Richland    MN        Waseca  56072   \n",
       "5  d2f0425877b10ed6bb381f3e2579424a    West Point    VA  King William  23181   \n",
       "\n",
       "        Lat       Lng  Population      Area          Timezone  \\\n",
       "1  34.34960 -86.72508        2951  Suburban   America/Chicago   \n",
       "2  30.84513 -85.22907       11303     Urban   America/Chicago   \n",
       "3  43.54321 -96.63772       17125  Suburban   America/Chicago   \n",
       "4  43.89744 -93.51479        2162  Suburban   America/Chicago   \n",
       "5  37.59894 -76.88958        5287     Rural  America/New_York   \n",
       "\n",
       "                                Job  Children   Age  \\\n",
       "1  Psychologist, sport and exercise       1.0  53.0   \n",
       "2      Community development worker       3.0  51.0   \n",
       "3           Chief Executive Officer       3.0  53.0   \n",
       "4               Early years teacher       0.0  78.0   \n",
       "5       Health promotion specialist       NaN  22.0   \n",
       "\n",
       "                                  Education Employment    Income   Marital  \\\n",
       "1            Some College, Less than 1 Year  Full Time  86575.93  Divorced   \n",
       "2  Some College, 1 or More Years, No Degree  Full Time  46805.99   Married   \n",
       "3  Some College, 1 or More Years, No Degree    Retired  14370.14   Widowed   \n",
       "4             GED or Alternative Credential    Retired  39741.49   Married   \n",
       "5               Regular High School Diploma  Full Time   1209.56   Widowed   \n",
       "\n",
       "   Gender ReAdmis  VitD_levels  Doc_visits  Full_meals_eaten  VitD_supp  \\\n",
       "1    Male      No    17.802330           6                 0          0   \n",
       "2  Female      No    18.994640           4                 2          1   \n",
       "3  Female      No    17.415889           4                 1          0   \n",
       "4    Male      No    17.420079           4                 1          0   \n",
       "5  Female      No    16.870524           5                 0          2   \n",
       "\n",
       "  Soft_drink        Initial_admin HighBlood Stroke Complication_risk  \\\n",
       "1        NaN  Emergency Admission       Yes     No            Medium   \n",
       "2         No  Emergency Admission       Yes     No              High   \n",
       "3         No   Elective Admission       Yes     No            Medium   \n",
       "4         No   Elective Admission        No    Yes            Medium   \n",
       "5        Yes   Elective Admission        No     No               Low   \n",
       "\n",
       "   Overweight Arthritis Diabetes Hyperlipidemia BackPain  Anxiety  \\\n",
       "1         0.0       Yes      Yes             No      Yes      1.0   \n",
       "2         1.0        No       No             No       No      NaN   \n",
       "3         1.0        No      Yes             No       No      NaN   \n",
       "4         0.0       Yes       No             No       No      NaN   \n",
       "5         0.0        No       No            Yes       No      0.0   \n",
       "\n",
       "  Allergic_rhinitis Reflux_esophagitis Asthma     Services  Initial_days  \\\n",
       "1               Yes                 No    Yes   Blood Work     10.585770   \n",
       "2                No                Yes     No  Intravenous     15.129562   \n",
       "3                No                 No     No   Blood Work      4.772177   \n",
       "4                No                Yes    Yes   Blood Work      1.714879   \n",
       "5               Yes                 No     No      CT Scan      1.254807   \n",
       "\n",
       "   TotalCharge  Additional_charges  Item1  Item2  Item3  Item4  Item5  Item6  \\\n",
       "1  3191.048774        17939.403420      3      3      2      2      4      3   \n",
       "2  4214.905346        17612.998120      3      4      3      4      4      4   \n",
       "3  2177.586768        17505.192460      2      4      4      4      3      4   \n",
       "4  2465.118965        12993.437350      3      5      5      3      4      5   \n",
       "5  1885.655137         3716.525786      2      1      3      3      5      3   \n",
       "\n",
       "   Item7  Item8  \n",
       "1      3      4  \n",
       "2      3      3  \n",
       "3      3      3  \n",
       "4      5      5  \n",
       "5      4      3  "
      ]
     },
     "execution_count": 2,
     "metadata": {},
     "output_type": "execute_result"
    }
   ],
   "source": [
    "# The CSV's first column is an index and Pandas will duplicate this and create an column without 'index_col=0'\n",
    "df = pd.read_csv('./medical_raw_data.csv', index_col=0)\n",
    "\n",
    "# Visually inspect dataframe to facilitate exploration, spot problems\n",
    "pd.set_option(\"display.max_columns\", None)\n",
    "df.head()\n"
   ]
  },
  {
   "cell_type": "code",
   "execution_count": 3,
   "id": "eb1f367a",
   "metadata": {
    "scrolled": true
   },
   "outputs": [
    {
     "name": "stdout",
     "output_type": "stream",
     "text": [
      "<class 'pandas.core.frame.DataFrame'>\n",
      "Int64Index: 10000 entries, 1 to 10000\n",
      "Data columns (total 52 columns):\n",
      " #   Column              Non-Null Count  Dtype  \n",
      "---  ------              --------------  -----  \n",
      " 0   CaseOrder           10000 non-null  int64  \n",
      " 1   Customer_id         10000 non-null  object \n",
      " 2   Interaction         10000 non-null  object \n",
      " 3   UID                 10000 non-null  object \n",
      " 4   City                10000 non-null  object \n",
      " 5   State               10000 non-null  object \n",
      " 6   County              10000 non-null  object \n",
      " 7   Zip                 10000 non-null  int64  \n",
      " 8   Lat                 10000 non-null  float64\n",
      " 9   Lng                 10000 non-null  float64\n",
      " 10  Population          10000 non-null  int64  \n",
      " 11  Area                10000 non-null  object \n",
      " 12  Timezone            10000 non-null  object \n",
      " 13  Job                 10000 non-null  object \n",
      " 14  Children            7412 non-null   float64\n",
      " 15  Age                 7586 non-null   float64\n",
      " 16  Education           10000 non-null  object \n",
      " 17  Employment          10000 non-null  object \n",
      " 18  Income              7536 non-null   float64\n",
      " 19  Marital             10000 non-null  object \n",
      " 20  Gender              10000 non-null  object \n",
      " 21  ReAdmis             10000 non-null  object \n",
      " 22  VitD_levels         10000 non-null  float64\n",
      " 23  Doc_visits          10000 non-null  int64  \n",
      " 24  Full_meals_eaten    10000 non-null  int64  \n",
      " 25  VitD_supp           10000 non-null  int64  \n",
      " 26  Soft_drink          7533 non-null   object \n",
      " 27  Initial_admin       10000 non-null  object \n",
      " 28  HighBlood           10000 non-null  object \n",
      " 29  Stroke              10000 non-null  object \n",
      " 30  Complication_risk   10000 non-null  object \n",
      " 31  Overweight          9018 non-null   float64\n",
      " 32  Arthritis           10000 non-null  object \n",
      " 33  Diabetes            10000 non-null  object \n",
      " 34  Hyperlipidemia      10000 non-null  object \n",
      " 35  BackPain            10000 non-null  object \n",
      " 36  Anxiety             9016 non-null   float64\n",
      " 37  Allergic_rhinitis   10000 non-null  object \n",
      " 38  Reflux_esophagitis  10000 non-null  object \n",
      " 39  Asthma              10000 non-null  object \n",
      " 40  Services            10000 non-null  object \n",
      " 41  Initial_days        8944 non-null   float64\n",
      " 42  TotalCharge         10000 non-null  float64\n",
      " 43  Additional_charges  10000 non-null  float64\n",
      " 44  Item1               10000 non-null  int64  \n",
      " 45  Item2               10000 non-null  int64  \n",
      " 46  Item3               10000 non-null  int64  \n",
      " 47  Item4               10000 non-null  int64  \n",
      " 48  Item5               10000 non-null  int64  \n",
      " 49  Item6               10000 non-null  int64  \n",
      " 50  Item7               10000 non-null  int64  \n",
      " 51  Item8               10000 non-null  int64  \n",
      "dtypes: float64(11), int64(14), object(27)\n",
      "memory usage: 4.0+ MB\n"
     ]
    }
   ],
   "source": [
    "# Check data types and number of values, as well as overall size of dataframe\n",
    "df.info()"
   ]
  },
  {
   "cell_type": "code",
   "execution_count": 4,
   "id": "2b6f9a70",
   "metadata": {},
   "outputs": [
    {
     "name": "stdout",
     "output_type": "stream",
     "text": [
      "CaseOrder\n",
      "10000\n",
      "Customer_id\n",
      "10000\n",
      "Interaction\n",
      "10000\n",
      "UID\n",
      "10000\n"
     ]
    }
   ],
   "source": [
    "# Check key constraints on CaseOrder, Customer_id, Interaction, and UID \n",
    "unique_cols = df[['CaseOrder', 'Customer_id', 'Interaction', 'UID']]\n",
    "for col in unique_cols:\n",
    "    print(col)\n",
    "    print(unique_cols[col].value_counts().count())"
   ]
  },
  {
   "cell_type": "code",
   "execution_count": 5,
   "id": "2a4c36f1",
   "metadata": {
    "tags": [
     "Duplicates"
    ]
   },
   "outputs": [
    {
     "data": {
      "text/plain": [
       "False    10000\n",
       "dtype: int64"
      ]
     },
     "execution_count": 5,
     "metadata": {},
     "output_type": "execute_result"
    }
   ],
   "source": [
    "# Identify if any duplicates exists\n",
    "df.duplicated().value_counts()"
   ]
  },
  {
   "cell_type": "code",
   "execution_count": 6,
   "id": "c2efa33f",
   "metadata": {},
   "outputs": [
    {
     "data": {
      "text/plain": [
       "Rural       3369\n",
       "Suburban    3328\n",
       "Urban       3303\n",
       "Name: Area, dtype: int64"
      ]
     },
     "execution_count": 6,
     "metadata": {},
     "output_type": "execute_result"
    }
   ],
   "source": [
    "#Validate values are categorical\n",
    "df.Area.value_counts()"
   ]
  },
  {
   "cell_type": "code",
   "execution_count": 7,
   "id": "d7906a2a",
   "metadata": {},
   "outputs": [
    {
     "data": {
      "text/plain": [
       "America/New_York                  3889\n",
       "America/Chicago                   3771\n",
       "America/Los_Angeles                937\n",
       "America/Denver                     612\n",
       "America/Detroit                    262\n",
       "America/Indiana/Indianapolis       151\n",
       "America/Phoenix                    100\n",
       "America/Boise                       86\n",
       "America/Anchorage                   50\n",
       "America/Puerto_Rico                 43\n",
       "Pacific/Honolulu                    34\n",
       "America/Menominee                   14\n",
       "America/Nome                        12\n",
       "America/Indiana/Vincennes            8\n",
       "America/Kentucky/Louisville          6\n",
       "America/Sitka                        6\n",
       "America/Toronto                      5\n",
       "America/Indiana/Marengo              3\n",
       "America/Indiana/Tell_City            3\n",
       "America/North_Dakota/Beulah          2\n",
       "America/Yakutat                      1\n",
       "America/Indiana/Winamac              1\n",
       "America/Indiana/Knox                 1\n",
       "America/North_Dakota/New_Salem       1\n",
       "America/Indiana/Vevay                1\n",
       "America/Adak                         1\n",
       "Name: Timezone, dtype: int64"
      ]
     },
     "execution_count": 7,
     "metadata": {},
     "output_type": "execute_result"
    }
   ],
   "source": [
    "# Check full range of values, determine suitability for datatype categorical\n",
    "df.Timezone.value_counts()"
   ]
  },
  {
   "cell_type": "code",
   "execution_count": 8,
   "id": "99b47caa",
   "metadata": {},
   "outputs": [
    {
     "data": {
      "text/plain": [
       "count    7412.000000\n",
       "mean        2.098219\n",
       "std         2.155427\n",
       "min         0.000000\n",
       "25%         0.000000\n",
       "50%         1.000000\n",
       "75%         3.000000\n",
       "max        10.000000\n",
       "Name: Children, dtype: float64"
      ]
     },
     "execution_count": 8,
     "metadata": {},
     "output_type": "execute_result"
    }
   ],
   "source": [
    "# Verify data are within reasonable bounds.\n",
    "df.Children.describe()"
   ]
  },
  {
   "cell_type": "code",
   "execution_count": 9,
   "id": "d5c0a4bd",
   "metadata": {},
   "outputs": [
    {
     "data": {
      "text/plain": [
       "count    7586.000000\n",
       "mean       53.295676\n",
       "std        20.659182\n",
       "min        18.000000\n",
       "25%        35.000000\n",
       "50%        53.000000\n",
       "75%        71.000000\n",
       "max        89.000000\n",
       "Name: Age, dtype: float64"
      ]
     },
     "execution_count": 9,
     "metadata": {},
     "output_type": "execute_result"
    }
   ],
   "source": [
    "# Verify data are within reasonable bounds and suitable for current dtyoe.\n",
    "df.Age.describe()"
   ]
  },
  {
   "cell_type": "code",
   "execution_count": 10,
   "id": "034e2a7f",
   "metadata": {},
   "outputs": [
    {
     "data": {
      "text/plain": [
       "Regular High School Diploma                 2444\n",
       "Bachelor's Degree                           1724\n",
       "Some College, 1 or More Years, No Degree    1484\n",
       "9th Grade to 12th Grade, No Diploma          832\n",
       "Associate's Degree                           797\n",
       "Master's Degree                              701\n",
       "Some College, Less than 1 Year               642\n",
       "Nursery School to 8th Grade                  552\n",
       "GED or Alternative Credential                389\n",
       "Professional School Degree                   208\n",
       "No Schooling Completed                       133\n",
       "Doctorate Degree                              94\n",
       "Name: Education, dtype: int64"
      ]
     },
     "execution_count": 10,
     "metadata": {},
     "output_type": "execute_result"
    }
   ],
   "source": [
    "#Validate values are categorical.\n",
    "df.Education.value_counts()"
   ]
  },
  {
   "cell_type": "code",
   "execution_count": 11,
   "id": "c572e22b",
   "metadata": {},
   "outputs": [
    {
     "data": {
      "text/plain": [
       "Full Time     6029\n",
       "Student       1017\n",
       "Part Time      991\n",
       "Unemployed     983\n",
       "Retired        980\n",
       "Name: Employment, dtype: int64"
      ]
     },
     "execution_count": 11,
     "metadata": {},
     "output_type": "execute_result"
    }
   ],
   "source": [
    "#Validate values are categorical\n",
    "df.Employment.value_counts()"
   ]
  },
  {
   "cell_type": "code",
   "execution_count": 12,
   "id": "8ed4f657",
   "metadata": {},
   "outputs": [
    {
     "data": {
      "text/plain": [
       "count      7536.000000\n",
       "mean      40484.438268\n",
       "std       28664.861050\n",
       "min         154.080000\n",
       "25%       19450.792500\n",
       "50%       33942.280000\n",
       "75%       54075.235000\n",
       "max      207249.130000\n",
       "Name: Income, dtype: float64"
      ]
     },
     "execution_count": 12,
     "metadata": {},
     "output_type": "execute_result"
    }
   ],
   "source": [
    "# Verify data exists within reasonable bounds\n",
    "df.Income.describe()"
   ]
  },
  {
   "cell_type": "code",
   "execution_count": 13,
   "id": "7ed9d2e6",
   "metadata": {
    "scrolled": true
   },
   "outputs": [
    {
     "data": {
      "text/plain": [
       "Widowed          2045\n",
       "Married          2023\n",
       "Separated        1987\n",
       "Never Married    1984\n",
       "Divorced         1961\n",
       "Name: Marital, dtype: int64"
      ]
     },
     "execution_count": 13,
     "metadata": {},
     "output_type": "execute_result"
    }
   ],
   "source": [
    "#Validate values are categorical\n",
    "df.Marital.value_counts()"
   ]
  },
  {
   "cell_type": "code",
   "execution_count": 14,
   "id": "2a72b674",
   "metadata": {},
   "outputs": [
    {
     "data": {
      "text/plain": [
       "Female                  5018\n",
       "Male                    4768\n",
       "Prefer not to answer     214\n",
       "Name: Gender, dtype: int64"
      ]
     },
     "execution_count": 14,
     "metadata": {},
     "output_type": "execute_result"
    }
   ],
   "source": [
    "#Validate values are categorical\n",
    "df.Gender.value_counts()"
   ]
  },
  {
   "cell_type": "code",
   "execution_count": 15,
   "id": "32df0314",
   "metadata": {},
   "outputs": [
    {
     "data": {
      "text/plain": [
       "No     6331\n",
       "Yes    3669\n",
       "Name: ReAdmis, dtype: int64"
      ]
     },
     "execution_count": 15,
     "metadata": {},
     "output_type": "execute_result"
    }
   ],
   "source": [
    "# Verify data is suitable for current datatype(boolean)\n",
    "df.ReAdmis.value_counts()"
   ]
  },
  {
   "cell_type": "code",
   "execution_count": 16,
   "id": "fb2fdfe7",
   "metadata": {},
   "outputs": [
    {
     "data": {
      "text/plain": [
       "count    10000.000000\n",
       "mean        19.412675\n",
       "std          6.723277\n",
       "min          9.519012\n",
       "25%         16.513171\n",
       "50%         18.080560\n",
       "75%         19.789740\n",
       "max         53.019124\n",
       "Name: VitD_levels, dtype: float64"
      ]
     },
     "execution_count": 16,
     "metadata": {},
     "output_type": "execute_result"
    }
   ],
   "source": [
    "# Verify data are within reasonable bounds and suitable for current datatype.\n",
    "df.VitD_levels.describe()"
   ]
  },
  {
   "cell_type": "code",
   "execution_count": 17,
   "id": "164da3db",
   "metadata": {},
   "outputs": [
    {
     "data": {
      "text/plain": [
       "count    10000.000000\n",
       "mean         5.012200\n",
       "std          1.045734\n",
       "min          1.000000\n",
       "25%          4.000000\n",
       "50%          5.000000\n",
       "75%          6.000000\n",
       "max          9.000000\n",
       "Name: Doc_visits, dtype: float64"
      ]
     },
     "execution_count": 17,
     "metadata": {},
     "output_type": "execute_result"
    }
   ],
   "source": [
    "# Verify data are within reasonable bounds and suitable for current datatype.\n",
    "df.Doc_visits.describe()"
   ]
  },
  {
   "cell_type": "code",
   "execution_count": 18,
   "id": "f62d47aa",
   "metadata": {},
   "outputs": [
    {
     "data": {
      "text/plain": [
       "count    10000.000000\n",
       "mean         1.001400\n",
       "std          1.008117\n",
       "min          0.000000\n",
       "25%          0.000000\n",
       "50%          1.000000\n",
       "75%          2.000000\n",
       "max          7.000000\n",
       "Name: Full_meals_eaten, dtype: float64"
      ]
     },
     "execution_count": 18,
     "metadata": {},
     "output_type": "execute_result"
    }
   ],
   "source": [
    "# Verify data are within reasonable bounds and suitable for current datatype.\n",
    "df.Full_meals_eaten.describe()"
   ]
  },
  {
   "cell_type": "code",
   "execution_count": 19,
   "id": "8cd46d3d",
   "metadata": {},
   "outputs": [
    {
     "data": {
      "text/plain": [
       "count    10000.000000\n",
       "mean         0.398900\n",
       "std          0.628505\n",
       "min          0.000000\n",
       "25%          0.000000\n",
       "50%          0.000000\n",
       "75%          1.000000\n",
       "max          5.000000\n",
       "Name: VitD_supp, dtype: float64"
      ]
     },
     "execution_count": 19,
     "metadata": {},
     "output_type": "execute_result"
    }
   ],
   "source": [
    "# Verify data are within reasonable bounds and suitable for current datatype.\n",
    "df.VitD_supp.describe()"
   ]
  },
  {
   "cell_type": "code",
   "execution_count": 20,
   "id": "43b780c9",
   "metadata": {},
   "outputs": [
    {
     "data": {
      "text/plain": [
       "No     5589\n",
       "Yes    1944\n",
       "Name: Soft_drink, dtype: int64"
      ]
     },
     "execution_count": 20,
     "metadata": {},
     "output_type": "execute_result"
    }
   ],
   "source": [
    "# Verify data is suitable for current datatype(boolean)\n",
    "df.Soft_drink.value_counts()"
   ]
  },
  {
   "cell_type": "code",
   "execution_count": 21,
   "id": "9fed9e14",
   "metadata": {},
   "outputs": [
    {
     "data": {
      "text/plain": [
       "Emergency Admission      5060\n",
       "Elective Admission       2504\n",
       "Observation Admission    2436\n",
       "Name: Initial_admin, dtype: int64"
      ]
     },
     "execution_count": 21,
     "metadata": {},
     "output_type": "execute_result"
    }
   ],
   "source": [
    "#Validate values are categorical\n",
    "df.Initial_admin.value_counts()"
   ]
  },
  {
   "cell_type": "code",
   "execution_count": 22,
   "id": "6e66aa28",
   "metadata": {},
   "outputs": [
    {
     "data": {
      "text/plain": [
       "No     5910\n",
       "Yes    4090\n",
       "Name: HighBlood, dtype: int64"
      ]
     },
     "execution_count": 22,
     "metadata": {},
     "output_type": "execute_result"
    }
   ],
   "source": [
    "# Verify data is suitable for current datatype(boolean)\n",
    "df.HighBlood.value_counts()"
   ]
  },
  {
   "cell_type": "code",
   "execution_count": 23,
   "id": "87c96ec6",
   "metadata": {},
   "outputs": [
    {
     "data": {
      "text/plain": [
       "No     8007\n",
       "Yes    1993\n",
       "Name: Stroke, dtype: int64"
      ]
     },
     "execution_count": 23,
     "metadata": {},
     "output_type": "execute_result"
    }
   ],
   "source": [
    "# Verify data is suitable for current datatype(boolean)\n",
    "df.Stroke.value_counts()"
   ]
  },
  {
   "cell_type": "code",
   "execution_count": 24,
   "id": "f16e558c",
   "metadata": {},
   "outputs": [
    {
     "data": {
      "text/plain": [
       "Medium    4517\n",
       "High      3358\n",
       "Low       2125\n",
       "Name: Complication_risk, dtype: int64"
      ]
     },
     "execution_count": 24,
     "metadata": {},
     "output_type": "execute_result"
    }
   ],
   "source": [
    "#Validate values are categorical\n",
    "df.Complication_risk.value_counts()"
   ]
  },
  {
   "cell_type": "code",
   "execution_count": 25,
   "id": "776248a9",
   "metadata": {},
   "outputs": [
    {
     "data": {
      "text/plain": [
       "1.0    6395\n",
       "0.0    2623\n",
       "Name: Overweight, dtype: int64"
      ]
     },
     "execution_count": 25,
     "metadata": {},
     "output_type": "execute_result"
    }
   ],
   "source": [
    "# Verify data is suitable for current datatype(boolean)\n",
    "df.Overweight.value_counts()"
   ]
  },
  {
   "cell_type": "code",
   "execution_count": 26,
   "id": "497b0f5a",
   "metadata": {},
   "outputs": [
    {
     "data": {
      "text/plain": [
       "No     6426\n",
       "Yes    3574\n",
       "Name: Arthritis, dtype: int64"
      ]
     },
     "execution_count": 26,
     "metadata": {},
     "output_type": "execute_result"
    }
   ],
   "source": [
    "# Verify data is suitable for current datatype(boolean)\n",
    "df.Arthritis.value_counts()"
   ]
  },
  {
   "cell_type": "code",
   "execution_count": 27,
   "id": "731bab92",
   "metadata": {},
   "outputs": [
    {
     "data": {
      "text/plain": [
       "No     7262\n",
       "Yes    2738\n",
       "Name: Diabetes, dtype: int64"
      ]
     },
     "execution_count": 27,
     "metadata": {},
     "output_type": "execute_result"
    }
   ],
   "source": [
    "# Verify data is suitable for current datatype(boolean)\n",
    "df.Diabetes.value_counts()"
   ]
  },
  {
   "cell_type": "code",
   "execution_count": 28,
   "id": "dd3d28b8",
   "metadata": {},
   "outputs": [
    {
     "data": {
      "text/plain": [
       "No     6628\n",
       "Yes    3372\n",
       "Name: Hyperlipidemia, dtype: int64"
      ]
     },
     "execution_count": 28,
     "metadata": {},
     "output_type": "execute_result"
    }
   ],
   "source": [
    "# Verify data is suitable for current datatype(boolean)\n",
    "df.Hyperlipidemia.value_counts()"
   ]
  },
  {
   "cell_type": "code",
   "execution_count": 29,
   "id": "ee9c8a79",
   "metadata": {},
   "outputs": [
    {
     "data": {
      "text/plain": [
       "No     5886\n",
       "Yes    4114\n",
       "Name: BackPain, dtype: int64"
      ]
     },
     "execution_count": 29,
     "metadata": {},
     "output_type": "execute_result"
    }
   ],
   "source": [
    "# Verify data is suitable for current datatype(boolean)\n",
    "df.BackPain.value_counts()"
   ]
  },
  {
   "cell_type": "code",
   "execution_count": 30,
   "id": "155efb51",
   "metadata": {},
   "outputs": [
    {
     "data": {
      "text/plain": [
       "0.0    6110\n",
       "1.0    2906\n",
       "Name: Anxiety, dtype: int64"
      ]
     },
     "execution_count": 30,
     "metadata": {},
     "output_type": "execute_result"
    }
   ],
   "source": [
    "# Verify data is suitable for current datatype(boolean)\n",
    "df.Anxiety.value_counts()"
   ]
  },
  {
   "cell_type": "code",
   "execution_count": 31,
   "id": "c51f8de5",
   "metadata": {},
   "outputs": [
    {
     "data": {
      "text/plain": [
       "No     6059\n",
       "Yes    3941\n",
       "Name: Allergic_rhinitis, dtype: int64"
      ]
     },
     "execution_count": 31,
     "metadata": {},
     "output_type": "execute_result"
    }
   ],
   "source": [
    "# Make sure values are suitable to be placed into datatype boolean\n",
    "df.Allergic_rhinitis.value_counts()"
   ]
  },
  {
   "cell_type": "code",
   "execution_count": 32,
   "id": "c34d3b6b",
   "metadata": {},
   "outputs": [
    {
     "data": {
      "text/plain": [
       "No     7107\n",
       "Yes    2893\n",
       "Name: Asthma, dtype: int64"
      ]
     },
     "execution_count": 32,
     "metadata": {},
     "output_type": "execute_result"
    }
   ],
   "source": [
    "# Verify data is suitable for current datatype(boolean)\n",
    "df.Asthma.value_counts()"
   ]
  },
  {
   "cell_type": "code",
   "execution_count": 33,
   "id": "d244f2a9",
   "metadata": {},
   "outputs": [
    {
     "data": {
      "text/plain": [
       "Blood Work     5265\n",
       "Intravenous    3130\n",
       "CT Scan        1225\n",
       "MRI             380\n",
       "Name: Services, dtype: int64"
      ]
     },
     "execution_count": 33,
     "metadata": {},
     "output_type": "execute_result"
    }
   ],
   "source": [
    "#Validate values are categorical\n",
    "df.Services.value_counts()"
   ]
  },
  {
   "cell_type": "code",
   "execution_count": 34,
   "id": "31fd88b7",
   "metadata": {},
   "outputs": [
    {
     "data": {
      "text/plain": [
       "count    8944.000000\n",
       "mean       34.432082\n",
       "std        26.287050\n",
       "min         1.001981\n",
       "25%         7.911709\n",
       "50%        34.446941\n",
       "75%        61.124654\n",
       "max        71.981486\n",
       "Name: Initial_days, dtype: float64"
      ]
     },
     "execution_count": 34,
     "metadata": {},
     "output_type": "execute_result"
    }
   ],
   "source": [
    "# Verify data are within reasonable bounds and suitable for current datatype.\n",
    "df.Initial_days.describe()"
   ]
  },
  {
   "cell_type": "code",
   "execution_count": 35,
   "id": "f8472206",
   "metadata": {},
   "outputs": [
    {
     "data": {
      "text/plain": [
       "count    10000.000000\n",
       "mean      5891.538261\n",
       "std       3377.558136\n",
       "min       1256.751699\n",
       "25%       3253.239465\n",
       "50%       5852.250564\n",
       "75%       7614.989701\n",
       "max      21524.224210\n",
       "Name: TotalCharge, dtype: float64"
      ]
     },
     "execution_count": 35,
     "metadata": {},
     "output_type": "execute_result"
    }
   ],
   "source": [
    "# Verify data are within reasonable bounds and suitable for current datatype.\n",
    "df.TotalCharge.describe()"
   ]
  },
  {
   "cell_type": "code",
   "execution_count": 36,
   "id": "6312b535",
   "metadata": {},
   "outputs": [
    {
     "data": {
      "text/plain": [
       "count    10000.000000\n",
       "mean     12934.528586\n",
       "std       6542.601544\n",
       "min       3125.702716\n",
       "25%       7986.487642\n",
       "50%      11573.979365\n",
       "75%      15626.491033\n",
       "max      30566.073130\n",
       "Name: Additional_charges, dtype: float64"
      ]
     },
     "execution_count": 36,
     "metadata": {},
     "output_type": "execute_result"
    }
   ],
   "source": [
    "# Verify data are within reasonable bounds and suitable for current datatype.\n",
    "df.Additional_charges.describe()"
   ]
  },
  {
   "cell_type": "code",
   "execution_count": 37,
   "id": "aa33d2d5",
   "metadata": {},
   "outputs": [
    {
     "data": {
      "text/plain": [
       "4    3455\n",
       "3    3404\n",
       "5    1377\n",
       "2    1315\n",
       "6     225\n",
       "1     213\n",
       "7      10\n",
       "8       1\n",
       "Name: Item1, dtype: int64"
      ]
     },
     "execution_count": 37,
     "metadata": {},
     "output_type": "execute_result"
    }
   ],
   "source": [
    "# Verify data exists within 1 - 8 constraint and is suitable to be stored as datatype ordered categorical\n",
    "df.Item1.value_counts()"
   ]
  },
  {
   "cell_type": "code",
   "execution_count": 38,
   "id": "257e69ba",
   "metadata": {},
   "outputs": [
    {
     "data": {
      "text/plain": [
       "3    3439\n",
       "4    3351\n",
       "5    1421\n",
       "2    1360\n",
       "1     213\n",
       "6     204\n",
       "7      12\n",
       "Name: Item2, dtype: int64"
      ]
     },
     "execution_count": 38,
     "metadata": {},
     "output_type": "execute_result"
    }
   ],
   "source": [
    "# Verify data exists within 1 - 8 constraint and is suitable to be stored as datatype ordered categorical\n",
    "df.Item2.value_counts()"
   ]
  },
  {
   "cell_type": "code",
   "execution_count": 39,
   "id": "a1c6e6bf",
   "metadata": {},
   "outputs": [
    {
     "data": {
      "text/plain": [
       "4    3464\n",
       "3    3379\n",
       "5    1358\n",
       "2    1356\n",
       "6     220\n",
       "1     211\n",
       "7      11\n",
       "8       1\n",
       "Name: Item3, dtype: int64"
      ]
     },
     "execution_count": 39,
     "metadata": {},
     "output_type": "execute_result"
    }
   ],
   "source": [
    "# Verify data exists within 1 - 8 constraint and is suitable to be stored as datatype ordered categorical\n",
    "df.Item3.value_counts()"
   ]
  },
  {
   "cell_type": "code",
   "execution_count": 40,
   "id": "82738143",
   "metadata": {},
   "outputs": [
    {
     "data": {
      "text/plain": [
       "3    3422\n",
       "4    3394\n",
       "5    1388\n",
       "2    1346\n",
       "6     231\n",
       "1     207\n",
       "7      12\n",
       "Name: Item4, dtype: int64"
      ]
     },
     "execution_count": 40,
     "metadata": {},
     "output_type": "execute_result"
    }
   ],
   "source": [
    "# Verify data exists within 1 - 8 constraint and is suitable to be stored as datatype ordered categorical\n",
    "df.Item4.value_counts()"
   ]
  },
  {
   "cell_type": "code",
   "execution_count": 41,
   "id": "2290db4a",
   "metadata": {},
   "outputs": [
    {
     "data": {
      "text/plain": [
       "4    3446\n",
       "3    3423\n",
       "2    1380\n",
       "5    1308\n",
       "6     219\n",
       "1     211\n",
       "7      13\n",
       "Name: Item5, dtype: int64"
      ]
     },
     "execution_count": 41,
     "metadata": {},
     "output_type": "execute_result"
    }
   ],
   "source": [
    "# Verify data exists within 1 - 8 constraint and is suitable to be stored as datatype ordered categorical\n",
    "df.Item5.value_counts()"
   ]
  },
  {
   "cell_type": "code",
   "execution_count": 42,
   "id": "b32cb177",
   "metadata": {},
   "outputs": [
    {
     "data": {
      "text/plain": [
       "4    3464\n",
       "3    3371\n",
       "5    1403\n",
       "2    1319\n",
       "6     220\n",
       "1     213\n",
       "7      10\n",
       "Name: Item6, dtype: int64"
      ]
     },
     "execution_count": 42,
     "metadata": {},
     "output_type": "execute_result"
    }
   ],
   "source": [
    "# Verify data exists within 1 - 8 constraint and is suitable to be stored as datatype ordered categorical\n",
    "df.Item6.value_counts()"
   ]
  },
  {
   "cell_type": "code",
   "execution_count": 43,
   "id": "c02e42e8",
   "metadata": {},
   "outputs": [
    {
     "data": {
      "text/plain": [
       "4    3487\n",
       "3    3456\n",
       "2    1345\n",
       "5    1274\n",
       "1     215\n",
       "6     212\n",
       "7      11\n",
       "Name: Item7, dtype: int64"
      ]
     },
     "execution_count": 43,
     "metadata": {},
     "output_type": "execute_result"
    }
   ],
   "source": [
    "# Verify data exists within 1 - 8 constraint and is suitable to be stored as datatype ordered categorical\n",
    "df.Item7.value_counts()"
   ]
  },
  {
   "cell_type": "code",
   "execution_count": 44,
   "id": "0ffcf51a",
   "metadata": {},
   "outputs": [
    {
     "data": {
      "text/plain": [
       "3    3401\n",
       "4    3337\n",
       "5    1429\n",
       "2    1391\n",
       "6     221\n",
       "1     209\n",
       "7      12\n",
       "Name: Item8, dtype: int64"
      ]
     },
     "execution_count": 44,
     "metadata": {},
     "output_type": "execute_result"
    }
   ],
   "source": [
    "# Verify data exists within 1 - 8 constraint and is suitable to be stored as datatype ordered categorical\n",
    "df.Item8.value_counts()"
   ]
  },
  {
   "cell_type": "code",
   "execution_count": 45,
   "id": "0ad9f33d",
   "metadata": {
    "tags": [
     "Missing_Values"
    ]
   },
   "outputs": [
    {
     "data": {
      "text/plain": [
       "CaseOrder                0\n",
       "Customer_id              0\n",
       "Interaction              0\n",
       "UID                      0\n",
       "City                     0\n",
       "State                    0\n",
       "County                   0\n",
       "Zip                      0\n",
       "Lat                      0\n",
       "Lng                      0\n",
       "Population               0\n",
       "Area                     0\n",
       "Timezone                 0\n",
       "Job                      0\n",
       "Children              2588\n",
       "Age                   2414\n",
       "Education                0\n",
       "Employment               0\n",
       "Income                2464\n",
       "Marital                  0\n",
       "Gender                   0\n",
       "ReAdmis                  0\n",
       "VitD_levels              0\n",
       "Doc_visits               0\n",
       "Full_meals_eaten         0\n",
       "VitD_supp                0\n",
       "Soft_drink            2467\n",
       "Initial_admin            0\n",
       "HighBlood                0\n",
       "Stroke                   0\n",
       "Complication_risk        0\n",
       "Overweight             982\n",
       "Arthritis                0\n",
       "Diabetes                 0\n",
       "Hyperlipidemia           0\n",
       "BackPain                 0\n",
       "Anxiety                984\n",
       "Allergic_rhinitis        0\n",
       "Reflux_esophagitis       0\n",
       "Asthma                   0\n",
       "Services                 0\n",
       "Initial_days          1056\n",
       "TotalCharge              0\n",
       "Additional_charges       0\n",
       "Item1                    0\n",
       "Item2                    0\n",
       "Item3                    0\n",
       "Item4                    0\n",
       "Item5                    0\n",
       "Item6                    0\n",
       "Item7                    0\n",
       "Item8                    0\n",
       "dtype: int64"
      ]
     },
     "execution_count": 45,
     "metadata": {},
     "output_type": "execute_result"
    }
   ],
   "source": [
    "# Identify if missing values exist\n",
    "df.isnull().sum()"
   ]
  },
  {
   "cell_type": "code",
   "execution_count": 46,
   "id": "29f8b72e",
   "metadata": {
    "scrolled": false,
    "tags": [
     "Missing_Values"
    ]
   },
   "outputs": [
    {
     "data": {
      "text/plain": [
       "<Axes: >"
      ]
     },
     "execution_count": 46,
     "metadata": {},
     "output_type": "execute_result"
    },
    {
     "data": {
      "image/png": "[encoded data removed]",
      "text/plain": [
       "<Figure size 2500x1000 with 2 Axes>"
      ]
     },
     "metadata": {},
     "output_type": "display_data"
    }
   ],
   "source": [
    "# Visualize missing values \n",
    "import missingno as msno\n",
    "msno.matrix(df, labels=True)"
   ]
  },
  {
   "cell_type": "code",
   "execution_count": 47,
   "id": "7aa9e802",
   "metadata": {},
   "outputs": [
    {
     "data": {
      "text/plain": [
       "<Axes: xlabel='Children', ylabel='Count'>"
      ]
     },
     "execution_count": 47,
     "metadata": {},
     "output_type": "execute_result"
    },
    {
     "data": {
      "image/png": "[encoded data removed]",
      "text/plain": [
       "<Figure size 640x480 with 1 Axes>"
      ]
     },
     "metadata": {},
     "output_type": "display_data"
    }
   ],
   "source": [
    "#Show distrubition for Children field\n",
    "sns.histplot(data=df['Children'])"
   ]
  },
  {
   "cell_type": "markdown",
   "id": "8902d0d2",
   "metadata": {},
   "source": [
    "Children variable distribution is a positive skew"
   ]
  },
  {
   "cell_type": "code",
   "execution_count": 48,
   "id": "473d4bba",
   "metadata": {},
   "outputs": [
    {
     "data": {
      "text/plain": [
       "<Axes: xlabel='Age', ylabel='Count'>"
      ]
     },
     "execution_count": 48,
     "metadata": {},
     "output_type": "execute_result"
    },
    {
     "data": {
      "image/png": "[encoded data removed]",
      "text/plain": [
       "<Figure size 640x480 with 1 Axes>"
      ]
     },
     "metadata": {},
     "output_type": "display_data"
    }
   ],
   "source": [
    "#Show distrubition for Age field\n",
    "sns.histplot(data=df['Age'])"
   ]
  },
  {
   "cell_type": "markdown",
   "id": "0d86637c",
   "metadata": {},
   "source": [
    "Age variable distribution is Uniform"
   ]
  },
  {
   "cell_type": "code",
   "execution_count": 49,
   "id": "cb18f97a",
   "metadata": {},
   "outputs": [
    {
     "data": {
      "text/plain": [
       "<Axes: >"
      ]
     },
     "execution_count": 49,
     "metadata": {},
     "output_type": "execute_result"
    },
    {
     "data": {
      "image/png": "[encoded data removed]",
      "text/plain": [
       "<Figure size 640x480 with 1 Axes>"
      ]
     },
     "metadata": {},
     "output_type": "display_data"
    }
   ],
   "source": [
    "#Detect Outliers\n",
    "import seaborn as sns\n",
    "\n",
    "# Select the columns you want to create horizontal box plots for\n",
    "columns_to_plot = ['Population','Doc_visits', 'Full_meals_eaten', 'Children', 'Age', 'Income', 'VitD_levels', 'VitD_supp', 'Initial_days', 'TotalCharge','Additional_charges']\n",
    "\n",
    "\n",
    "sns.boxplot(data=df[columns_to_plot],orient='h')"
   ]
  },
  {
   "cell_type": "code",
   "execution_count": 50,
   "id": "41f4c35f",
   "metadata": {},
   "outputs": [
    {
     "name": "stdout",
     "output_type": "stream",
     "text": [
      "   Population  z_score_population\n",
      "1        2951           -0.473168\n",
      "2       11303            0.090242\n",
      "3       17125            0.482983\n",
      "4        2162           -0.526393\n",
      "5        5287           -0.315586\n",
      "     Income  z_score_income\n",
      "1  86575.93        1.608051\n",
      "2  46805.99        0.220548\n",
      "3  14370.14       -0.911082\n",
      "4  39741.49       -0.025920\n",
      "5   1209.56       -1.370231\n"
     ]
    }
   ],
   "source": [
    "#Identify the number of outlers in population\n",
    "\n",
    "# Create copy of df:\n",
    "df_outliers = df\n",
    "\n",
    "#Set z_score threshold\n",
    "z_score_threshold = 3\n",
    "\n",
    "outliers_cols = ['Population', 'Income']\n",
    "\n",
    "for col in outliers_cols:\n",
    "    df_outliers['z_score_'+col.lower()] = stats.zscore(df_outliers[col], nan_policy='omit')\n",
    "    #Display the calculated z-score and the values\n",
    "    print(df_outliers[[col, 'z_score_'+col.lower()]].head())\n"
   ]
  },
  {
   "cell_type": "code",
   "execution_count": 51,
   "id": "9920893c",
   "metadata": {},
   "outputs": [
    {
     "data": {
      "text/plain": [
       "289      54453\n",
       "965      54460\n",
       "6797     54507\n",
       "3820     54647\n",
       "3186     54647\n",
       "         ...  \n",
       "768     105799\n",
       "7687    105799\n",
       "5966    107700\n",
       "9663    122814\n",
       "3025    122814\n",
       "Name: Population, Length: 218, dtype: int64"
      ]
     },
     "execution_count": 51,
     "metadata": {},
     "output_type": "execute_result"
    }
   ],
   "source": [
    "#Stores obersavations where the z score is greater than the threshold\n",
    "df_outliers_population = df_outliers[df_outliers['z_score_population'] > z_score_threshold]\n",
    "\n",
    "#Count the number of outliers present within the Population feature\n",
    "df_outliers_population['Population'].sort_values()"
   ]
  },
  {
   "cell_type": "code",
   "execution_count": 52,
   "id": "cba58de1",
   "metadata": {},
   "outputs": [
    {
     "data": {
      "text/plain": [
       "8996    127026.59\n",
       "1373    127505.80\n",
       "5847    127566.08\n",
       "1980    127857.49\n",
       "612     128108.35\n",
       "          ...    \n",
       "1779    197576.18\n",
       "6407    197675.05\n",
       "8599    203774.65\n",
       "842     204542.41\n",
       "8387    207249.13\n",
       "Name: Income, Length: 113, dtype: float64"
      ]
     },
     "execution_count": 52,
     "metadata": {},
     "output_type": "execute_result"
    }
   ],
   "source": [
    "df_outliers_income = df_outliers[df_outliers['z_score_income'] > z_score_threshold]\n",
    "df_outliers_income['Income'].sort_values()"
   ]
  },
  {
   "cell_type": "markdown",
   "id": "0fdaf1c9",
   "metadata": {},
   "source": [
    "<a id='PartD1'></a>\n",
    "## D1: Describe Anomalous Findings\n",
    "\n",
    "Upon examining the code and dataframe, several issues were found that need corrections to enable effective data analysis.:\n",
    "\n",
    "<h2>Data Mismatch and Miscellaneous Issues</h2>\n",
    "\n",
    "- Zip codes are stored as integers rather than strings, and have lost their leadings 0's as a result\n",
    "- Area is stored as a string object, but would be more appropriately & efficiently stored as a category\n",
    "- Timezones have 26 different timezones listed, broken down by city, should be standardized to the 9 US time zones and create a seperate feature for city\n",
    "- Children is stored as a floating point number, should be an integer\n",
    "- Age is stored as a floating point number, should be an integer\n",
    "- Education is stored as a string object, but would be more appropriately & efficiently stored as a category\n",
    "- Marital is stored as a string object, but would be more appropriately & efficiently stored as a category\n",
    "- Gender is stored as a string object, but would be more appropriately & efficiently stored as a category\n",
    "- Gender contains \"Male\", \"Female\", and \"Prefer not to answer\", while data dictionary states that it should instead contain \"Male\", \"Female\", and \"Non-Binary\".\n",
    "- ReAdmis is stored as a string object, but would be more appropriately & efficiently stored as a boolean\n",
    "- Soft_drink is stored as a string object, but would be more appropriately & efficiently stored as a boolean\n",
    "- HighBlood is stored as a string object, but would be more appropriately & efficiently stored as a boolean\n",
    "- Stroke is stored as a string object, but would be more appropriately & efficiently stored as a boolean\n",
    "- Arthritis is stored as a string object, but would be more appropriately & efficiently stored as a boolean\n",
    "- Diabetes is stored as a string object, but would be more appropriately & efficiently stored as a boolean\n",
    "- Hyperlipidemia is stored as a string object, but would be more appropriately & efficiently stored as a boolean\n",
    "- BackPain is stored as a string object, but would be more appropriately & efficiently stored as a boolean\n",
    "- Allergic_rhinitis is stored as a string object, but would be more appropriately & efficiently stored as a boolean\n",
    "- Reflux_esophagitis is stored as a string object, but would be more appropriately & efficiently stored as a boolean\n",
    "- Asthma is stored as a string object, but would be more appropriately & efficiently stored as a boolean\n",
    "- Services is stored as a string object, but would be more appropriately & efficiently stored as a category\n",
    "- Initial_days is stored as a floating point number, but would be more appropriately stored as an integer\n",
    "- Initial_days does not seem to contain any number less than 1, indicating that NaNs can be replaced with 0\n",
    "- TotalCharge is stored to 6 decimal places, this is excessive precision, will round down to 2 decimal places\n",
    "- Additional_charge is stored to 6 decimal places, this is excessive precision, will round down to 2 decimal places\n",
    "- Item1 is stored as an integer, but would be more appropriately & efficiently stored as an ordered categorical \n",
    "- Item2 is stored as an integer, but would be more appropriately & efficiently stored as an ordered categorical \n",
    "- Item3 is stored as an integer, but would be more appropriately & efficiently stored as an ordered categorical \n",
    "- Item4 is stored as an integer, but would be more appropriately & efficiently stored as an ordered categorical \n",
    "- Item5 is stored as an integer, but would be more appropriately & efficiently stored as an ordered categorical \n",
    "- Item6 is stored as an integer, but would be more appropriately & efficiently stored as an ordered categorical \n",
    "- Item7 is stored as an integer, but would be more appropriately & efficiently stored as an ordered categorical \n",
    "- Item8 is stored as an integer, but would be more appropriately & efficiently stored as an ordered categorical \n",
    "- Many columns have non-Pythonic naming conventions, being inconsistent with their usage of capital letters, underscores, etc.\n",
    "- Many columns (i.e. \"Item1\", \"TotalCharge\") are non-descriptive or misleading in their labels\n",
    "    \n",
    "<h2>Duplicated value</h2>\n",
    "No duplicates were found that would impact future analysis.\n",
    "    \n",
    "<h2>Missing Values</h2>\n",
    "Found missing values for the following variables:\n",
    "\n",
    "|Variable|Number of missing values|\n",
    "|--------|------------------------|\n",
    "|Children|2588|\n",
    "|Age|2414|\n",
    "|Income|2464|\n",
    "|Soft_drink|2467|\n",
    "|Overweight|982|\n",
    "|Anxiety|984|\n",
    "|Initial_days|1056|\n",
    "\n",
    "\n",
    "<h2>Outliers</h2>\n",
    "Found outliers for the following variables:\n",
    "\n",
    "|Variable|Number of Outlier|\n",
    "|--------|------------------------|\n",
    "|Population|218|\n",
    "|Income|113|\n",
    "\n",
    "<h2>Catorgorical Data Needing to be Reexpressed</h2>\n",
    "\n",
    "- Overweight is stored as a floating point number, but should re-expressed as a boolean\n",
    "- Anxiety is stored as a floating point number, but should re-expressed as a boolean\n",
    "\n",
    "<a id='PartD2'></a>\n",
    "## D2: Plans For Mitigating Anomalies\n",
    "\n",
    "<h2>Data Mismatch and Miscellaneous Issues</h2>\n",
    "- The non-Pythonic and misleading/non-descriptive names will be corrected by renaming each column to be Pythonically and descriptively named. \n",
    "\n",
    "- The floating point columns with excessive precision values will be rounded to a more appropriate number of decimal places.\n",
    "\n",
    "- To correct the zip codes which were incorrectly stored as integers, I will recast the column as a string, and then front-fill each cell with 0's to make sure all cells contain a string 5 digits long. \n",
    "\n",
    "- The `Age` and `Children` variables, which need to be changed from floating points to integers, must also retain their `NaN` values. Recasting these columns to the default `int64` type will fail because of the NaN values, which ordinarily require the datatype to be float. The experimental `Int64` datatype in the pandas documentation is a new integer datatype, distinct from NumPy's `int64`, which allows these columns to be cast as integers while retaining support for `NaN` or null values.\n",
    "\n",
    "- Timezone: To correct the timezones, a dictionary will be generated, equating each provided timezone (i.e. \"America/Detroit\") to a standard for their entire timezone (i.e. \"US - Eastern\"). A google search will be performed for each city to get the appropriate timezone, and the dictionary will be used to replace all current strings for timezone to the standardized timezones. The column will then be converted to category to prevent other incorrect/non-standard strings from being entered. \n",
    "\n",
    "\n",
    "\n",
    "- The columns identified as being more appropriate stored as strings, integers, or floats which would more appropriately be stored as categorical or boolean types will be recast in the appropriate datatype. This imposes certain integrity constraints on data added to the columns, provides for more efficient handling of the data, and facilitates data analysis.\n",
    "\n",
    "\n",
    "- The survey responses will be assigned a set of ordered categories representing the full range of survey scores, with \"1\" (\"most important\") being greater or \"higher\" than \"8\" (\"least important\"). Each column will then be cast as an ordered categorical datatype. \n",
    "\n",
    "<h2>Duplicated value</h2>\n",
    "No duplicates were found that would impact future analysis.\n",
    "    \n",
    "<h2>Missing Values</h2>\n",
    "\n",
    "<h3>Children</h3>\n",
    "- The Children variable treated using univariate imputation (median) leveraging the `fillna(data['Column_Name].median(), inplace=True)` function. This is a reasonable method of treatment because Children is a Quantitative Variable and the distrubtion of the values are positively skewed.\n",
    "\n",
    "<h3>Age</h3>\n",
    "- The Children variable treated using univariate imputation (Mean) leveraging the `fillna(data['Column_Name].mean(), inplace=True)` function. This is a reasonable method of treatment because Children is a Quantitative Variable and has a uniform distrubtion.\n",
    "\n",
    "<h3>Income</h3>\n",
    "- The Income variable treated using univariate imputation (median) leveraging the `fillna(data['Column_Name].median(), inplace=True)` function. This is a reasonable method of treatment because Children is a Quantitative Variable and the distrubtion of the values are positively skewed.\n",
    "\n",
    "<h3>Soft_drink</h3>\n",
    "Multiple imputation:\n",
    "\n",
    "Multiple imputation involves creating multiple imputed datasets, which can help account for the uncertainty introduced by imputation. This technique is especially useful when you have a significant proportion of missing values. It provides more robust estimates and helps preserve the variability in the data.\n",
    "\n",
    "<h3>Overweight</h3>\n",
    "If the missing values are relatively small in number, you can impute them with the majority class value (either True or False). This is a simple and straightforward approach that does not introduce bias.\n",
    "\n",
    "<h3>Anxiety</h3>\n",
    "If the missing values are relatively small in number, you can impute them with the majority class value (either True or False). This is a simple and straightforward approach that does not introduce bias.\n",
    "\n",
    "<h3>Initial_days</h3>\n",
    "- The 'Initial_days' column will undergo a transformation where all NaN values are substituted with 0. This decision is based on the observation that the column doesn't contain values less than 1 (or 1.00), suggesting that individuals with stays of less than one were recorded as null. There's a deliberation between rounding up (NaN -> 1, 1.5 -> 2, etc.), truncating (NaN -> 0, 1.5 -> 1, etc.), or rounding to the nearest whole number. Considering the likelihood of the value representing hours and minutes spent in the hospital, with 23 hours being \"rounded down\" to NaN/0 and lacking any explicit instruction otherwise, the most appropriate assumption for the business use of this data seems to be truncation. This assumption will be uniformly applied to the entire column and converted to an integer type.\n",
    "\n",
    "|Variable|Number of missing values|\n",
    "|--------|------------------------|\n",
    "|Children|2588|\n",
    "|Age|2414|\n",
    "|Income|2464|\n",
    "|Soft_drink|2467|\n",
    "|Overweight|982|\n",
    "|Anxiety|984|\n",
    "|Initial_days|1056|\n",
    "\n",
    "\n",
    "<h2>Outliers</h2>\n",
    "Found outliers for the following variables:\n",
    "\n",
    "|Variable|Number of Outlier|\n",
    "|--------|------------------------|\n",
    "|Population|218|\n",
    "|Income|113|\n",
    " \n",
    "\n",
    "<h3>Population</h3>\n",
    "After inspecting the values in population columns, I see no reason to treat the column as neither min or max values seemed erroneous or unreasonable.\n",
    "\n",
    "<h3>Income</h3>\n",
    "After inspecting the values in income columns, I see no reason to treat the column as neither min or max values seemed erroneous or unreasonable.\n",
    "\n",
    "\n",
    "<h2>Catorgorical Data Needing to be Re-expressed</h2>\n",
    "\n",
    "<h3>Overweight</h3>\n",
    "- The Overweight variable will be re-expressed using label encoding to change the values from 1s and 0s, to Yes or No  using the method `replace({True: 'Yes', False: 'No'})`\n",
    "\n",
    "<h3>Anxiety</h3>\n",
    "- The Anxiety variable will be reexpresed using label encoding to change the values from 1s and 0s, to Yes or No using the method `replace({True: 'Yes', False: 'No'})`\n",
    "\n",
    "\n",
    "\n",
    "<a id='PartD3'></a>\n",
    "## D3: Summarize Outcomes of Cleaning Operations\n",
    "\n",
    "The previous operations were created to make the subsequent data analysis more efficient while ensuring the accuracy of specific data segments after any modifications. For example, using categorical or boolean data types restricts the acceptable values in a column, thereby requiring standardized input. This standardization makes it easier to analyze the respective variable. \n",
    "\n",
    "An example of this can be seen in the way we treated the timezone column. The analysis was notably optimized by categorizing patients by time zone into only nine distinct time zones. This approach contrasts the initial dataset, containing 26 different \"time zones,\" many of which were functionally identical but labeled differently. \n",
    "\n",
    "Additionally, by reconfiguring the column headers, future analyses will be simplified by adhering to established conventions, eliminating the need to reference the precise titles of individual columns repeatedly. This practice was illustrated during the project.\n",
    "\n",
    "<a id='PartD4'></a\n",
    "    \n",
    "## D4: Code Used to Mitigate Anomalies"
   ]
  },
  {
   "cell_type": "code",
   "execution_count": 53,
   "id": "2324aa0d",
   "metadata": {},
   "outputs": [],
   "source": [
    "# Missing Values\n",
    "# Initial_days only counts hospital stays over 1 day, NaNs can be reasonably assumed to represent 0 days\n",
    "df.Initial_days.fillna(0, inplace=True)\n",
    "\n",
    "# Treating variable using univariate imputation (median)\n",
    "df.Children.fillna(df['Children'].median(), inplace=True)\n",
    "\n",
    "# Treating variable using univariate imputation (mean)\n",
    "df.Age.fillna(df['Age'].mean(), inplace=True)\n",
    "\n",
    "# Treating variable using univariate imputation (median)\n",
    "df.Income.fillna(df['Income'].median(), inplace=True)\n",
    "\n",
    "# Treating variable using univariate imputation (Mode)\n",
    "df.Overweight.fillna(df['Overweight'].mode(), inplace=True)\n",
    "\n",
    "# Treating variable using univariate imputation (Mode)\n",
    "df.Anxiety.fillna(df['Anxiety'].mode(), inplace=True)\n",
    "\n",
    "# Treating variable using univariate imputation (Mode)\n",
    "df.Soft_drink.fillna(\"No\", inplace=True)\n",
    "\n",
    "# Outliers\n",
    "\n",
    "#Remove z score columns from the dataset\n",
    "df.drop(['z_score_population', 'z_score_income'], axis=1, inplace=True)\n",
    "\n",
    "#Re-express categorical values\n",
    "\n",
    "# re-express overweight values\n",
    "df['Overweight'].replace({1.0: 'Yes', 0.0: 'No'}, inplace=True)\n",
    "\n",
    "# # re-express anxiety values \n",
    "df['Anxiety'].replace({1.0: 'Yes', 0.0: 'No'}, inplace=True)\n",
    "\n",
    "# Store columns where value must be converted to booleans True or False\n",
    "boolean_cols = ['ReAdmis', 'Soft_drink', 'HighBlood', 'Stroke', 'Overweight', 'Arthritis',\n",
    "                'Diabetes', 'Hyperlipidemia', 'BackPain', 'Anxiety', 'Allergic_rhinitis', 'Reflux_esophagitis',\n",
    "               'Asthma']\n",
    "\n",
    "# convert column in a boolean_cols where 'Yes' = TRUE and 'No' FALSE.\n",
    "for cols in boolean_cols:\n",
    "    df[cols].replace({'Yes':True, 'No':False}, inplace=True)\n",
    "\n",
    "\n",
    "# Convert column to string from int,then front-fill string with 0's to reach 5 chars and apply double-quotes so that leading zeros are not removed on export\n",
    "df['Zip'] = df['Zip'].astype(\"str\").str.zfill(5).apply('=\"{}\"'.format)\n",
    "\n",
    "\n",
    "# Convert column to category from string\n",
    "df[\"Area\"] = df[\"Area\"].astype(\"category\")\n",
    "\n",
    "\n",
    "# Replace Yes and No with True and False\n",
    "\n",
    "bool_cols = ['']\n",
    "\n",
    "# Replace city-specific values with time-zone specific values\n",
    "df.Timezone.replace({\n",
    "    # Puerto Rico does not observe DST, stays on Atlantic Standard Time all year long\n",
    "    \"America/Puerto_Rico\" : \"US - Puerto Rico\",\n",
    "    # US - Eastern observes DST\n",
    "    \"America/New_York\": \"US - Eastern\",\n",
    "    \"America/Detroit\" : \"US - Eastern\",\n",
    "    \"America/Indiana/Indianapolis\" : \"US - Eastern\",\n",
    "    \"America/Indiana/Vevay\" : \"US - Eastern\",\n",
    "    \"America/Indiana/Vincennes\" : \"US - Eastern\",\n",
    "    \"America/Kentucky/Louisville\" : \"US - Eastern\",\n",
    "    \"America/Toronto\" : \"US - Eastern\",\n",
    "    \"America/Indiana/Marengo\" : \"US - Eastern\",\n",
    "    \"America/Indiana/Winamac\" : \"US - Eastern\",\n",
    "    # US - Central observes DST\n",
    "    \"America/Chicago\" : \"US - Central\", \n",
    "    \"America/Menominee\" : \"US - Central\",\n",
    "    \"America/Indiana/Knox\" : \"US - Central\",\n",
    "    \"America/Indiana/Tell_City\" : \"US - Central\",\n",
    "    \"America/North_Dakota/Beulah\" : \"US - Central\",\n",
    "    \"America/North_Dakota/New_Salem\" : \"US - Central\",\n",
    "    # US - Mountain observes DST\n",
    "    \"America/Denver\" : \"US - Mountain\",\n",
    "    \"America/Boise\" : \"US - Mountain\",\n",
    "    # Arizona does not observe DST, stays on Mountain Standard Time all year long\n",
    "    \"America/Phoenix\" : \"US - Arizona\",\n",
    "    # US - Pacific observes DST\n",
    "    \"America/Los_Angeles\" : \"US - Pacific\",\n",
    "    # US - Alaskan observes DST\n",
    "    \"America/Nome\" : \"US - Alaskan\",\n",
    "    \"America/Anchorage\" : \"US - Alaskan\",\n",
    "    \"America/Sitka\" : \"US - Alaskan\",\n",
    "    \"America/Yakutat\" : \"US - Alaskan\",\n",
    "    # US - Aleutian observes DST\n",
    "    \"America/Adak\" : \"US - Aleutian\",\n",
    "    # US - Hawaiian does not observe DST, stays on Hawaii Standard Time all year\n",
    "    \"Pacific/Honolulu\" : \"US - Hawaiian\" \n",
    "    }, inplace=True)\n",
    "\n",
    "# Convert column to category from string\n",
    "df[\"Timezone\"] = df[\"Timezone\"].astype(\"category\")\n",
    "\n",
    "# Convert column from float to int, use type Int64 to handle NaN values (Int64 supports NaN, int64 does not)\n",
    "df[\"Children\"] = df[\"Children\"].astype(\"Int64\")\n",
    "\n",
    "\n",
    "# Convert column from float to int, use type Int64 to handle NaN values (Int64 supports NaN, int64 does not)\n",
    "df[\"Age\"] = np.round(df[\"Age\"]).astype(\"Int64\")\n",
    "\n",
    "# Convert column to category from string\n",
    "df[\"Education\"] = df[\"Education\"].astype(\"category\")\n",
    "\n",
    "# Convert column to category from string\n",
    "df[\"Employment\"] = df[\"Employment\"].astype(\"category\")\n",
    "\n",
    "# Convert column to category from string\n",
    "df[\"Marital\"] = df[\"Marital\"].astype(\"category\")\n",
    "\n",
    "# Data dictionary reflects that there should be 3 answers for Gender: Male, Female, and Non-Binary. \n",
    "# Original data reflects Male, Female, and Prefer not to answer\n",
    "\n",
    "df.Gender.replace({\n",
    "    \"Female\": \"F\",\n",
    "    \"Male\": \"M\",\n",
    "    \"Prefer not to answer\": \"NB\"\n",
    "}, inplace=True)\n",
    "\n",
    "# Convert column to category from string\n",
    "df[\"Gender\"] = df[\"Gender\"].astype(\"category\")\n",
    "\n",
    "# Convert column to boolean from string\n",
    "df[\"ReAdmis\"] = df[\"ReAdmis\"].astype(\"bool\")\n",
    "\n",
    "# Reformat column representing Vitamin D levels to 3 decimal places from 6\n",
    "df[\"VitD_levels\"] = df.VitD_levels.round(3)\n",
    "\n",
    "# Convert column to boolean from string\n",
    "df[\"Soft_drink\"] = df[\"Soft_drink\"].astype(\"bool\")\n",
    "\n",
    "# Convert column to category from string\n",
    "df[\"Initial_admin\"] = df[\"Initial_admin\"].astype(\"category\")\n",
    "\n",
    "# Convert column to boolean from string\n",
    "df[\"HighBlood\"] = df[\"HighBlood\"].astype(\"bool\")\n",
    "\n",
    "# Convert column to boolean from string\n",
    "df[\"Stroke\"] = df[\"Stroke\"].astype(\"bool\")\n",
    "\n",
    "# Convert column to category from string\n",
    "df[\"Complication_risk\"] = df[\"Complication_risk\"].astype(\"category\")\n",
    "\n",
    "# Convert column to boolean from float\n",
    "df[\"Overweight\"] = df[\"Overweight\"].astype(\"bool\")\n",
    "\n",
    "# Convert column to boolean from string\n",
    "df[\"Arthritis\"] = df[\"Arthritis\"].astype(\"bool\")\n",
    "\n",
    "# Convert column to boolean from string\n",
    "df[\"Diabetes\"] = df[\"Diabetes\"].astype(\"bool\")\n",
    "\n",
    "# Convert column to boolean from string\n",
    "df[\"Hyperlipidemia\"] = df[\"Hyperlipidemia\"].astype(\"bool\")\n",
    "\n",
    "# Convert column to boolean from string\n",
    "df[\"BackPain\"] = df[\"BackPain\"].astype(\"bool\")\n",
    "\n",
    "# Convert column to boolean from float\n",
    "df[\"Anxiety\"] = df[\"Anxiety\"].astype(\"bool\")\n",
    "\n",
    "# Convert column to boolean from string\n",
    "df[\"Allergic_rhinitis\"] = df[\"Allergic_rhinitis\"].astype(\"bool\")\n",
    "\n",
    "# Convert column to boolean from string\n",
    "df[\"Reflux_esophagitis\"] = df[\"Reflux_esophagitis\"].astype(\"bool\")\n",
    "\n",
    "# Convert column to boolean from string\n",
    "df[\"Asthma\"] = df[\"Asthma\"].astype(\"bool\")\n",
    "\n",
    "# Convert column to category from string\n",
    "df[\"Services\"] = df[\"Services\"].astype(\"category\")\n",
    "\n",
    "# Convert days in hospital from float to integer\n",
    "df[\"Initial_days\"] = df[\"Initial_days\"].astype(\"int64\")\n",
    "\n",
    "# Reformat column representing currency in USD to 2 decimal places from 6\n",
    "df[\"TotalCharge\"] = df.TotalCharge.round(2)\n",
    "\n",
    "# Reformat column representing currency in USD to 2 decimal places from 6\n",
    "df[\"Additional_charges\"] = df.Additional_charges.round(2)\n",
    "\n",
    "# Establish ordered categorical datatype structure (\"1\" > \"2\" > ... > \"7\" > \"8\") for survey response columns\n",
    "survey_scores = pd.CategoricalDtype(categories=[\"8\", \"7\", \"6\", \"5\", \"4\", \"3\", \"2\", \"1\"], ordered=True)\n",
    "\n",
    "# Map integers to be strings instead (conversion from int > ordered categorical will act up without this)\n",
    "\n",
    "df[\"Item1\"] = df[\"Item1\"].map(str)\n",
    "\n",
    "# Reassign datatype from strings to created survey_scores datatype \n",
    "df[\"Item1\"] = df[\"Item1\"].astype(survey_scores)\n",
    "\n",
    "# Map integers to be strings instead (conversion from int > ordered categorical will act up without this)\n",
    "df[\"Item2\"] = df[\"Item2\"].map(str)\n",
    "\n",
    "# Reassign datatype from strings to created survey_scores datatype \n",
    "df[\"Item2\"] = df[\"Item2\"].astype(survey_scores)\n",
    "\n",
    "# Map integers to be strings instead (conversion from int > ordered categorical will act up without this)\n",
    "df[\"Item3\"] = df[\"Item3\"].map(str)\n",
    "\n",
    "# Reassign datatype from strings to created survey_scores datatype \n",
    "df[\"Item3\"] = df[\"Item3\"].astype(survey_scores)\n",
    "\n",
    "# Map integers to be strings instead (conversion from int > ordered categorical will act up without this)\n",
    "df[\"Item4\"] = df[\"Item4\"].map(str)\n",
    "\n",
    "# Reassign datatype from strings to created survey_scores datatype \n",
    "df[\"Item4\"] = df[\"Item4\"].astype(survey_scores)\n",
    "\n",
    "# Map integers to be strings instead (conversion from int > ordered categorical will act up without this)\n",
    "df[\"Item5\"] = df[\"Item5\"].map(str)\n",
    "\n",
    "# Reassign datatype from strings to created survey_scores datatype \n",
    "df[\"Item5\"] = df[\"Item5\"].astype(survey_scores)\n",
    "\n",
    "# Map integers to be strings instead (conversion from int > ordered categorical will act up without this)\n",
    "df[\"Item6\"] = df[\"Item6\"].map(str)\n",
    "\n",
    "# Reassign datatype from strings to created survey_scores datatype \n",
    "df[\"Item6\"] = df[\"Item6\"].astype(survey_scores)\n",
    "\n",
    "# Map integers to be strings instead (conversion from int > ordered categorical will act up without this)\n",
    "df[\"Item7\"] = df[\"Item7\"].map(str)\n",
    "\n",
    "# Reassign datatype from strings to created survey_scores datatype \n",
    "df[\"Item7\"] = df[\"Item7\"].astype(survey_scores)\n",
    "\n",
    "# Map integers to be strings instead (conversion from int > ordered categorical will act up without this)\n",
    "df[\"Item8\"] = df[\"Item8\"].map(str)\n",
    "\n",
    "# Reassign datatype from strings to created survey_scores datatype \n",
    "df[\"Item8\"] = df[\"Item8\"].astype(survey_scores)\n",
    "\n",
    "\n",
    "\n",
    "# Generate column names which are pythonic in syntax and descriptive\n",
    "pythonic_columns = [\"case_order\", \"customer_id\", \"interaction\", \"uid\", \"city\", \"state\", \"county\", \n",
    "                    \"zip_code\", \"latitude\", \"longitude\", \"population\", \"area_type\", \"timezone\", \"job\", \"children\", \n",
    "                    \"age\", \"education\", \"employment_status\", \"income\", \"marital_status\", \"gender\", \"readmission\", \n",
    "                    \"vitamin_d_level\", \"dr_visits\", \"full_meals\", \"vit_d_supp\", \"soft_drink\", \"initial_admit\", \n",
    "                    \"high_bp\", \"stroke\", \"complication_risk\", \"overweight\", \"arthritis\", \"diabetes\", \"hyperlipidemia\", \n",
    "                    \"back_pain\", \"anxiety\", \"allergic_rhinitis\", \"reflux_esophagitis\", \"asthma\", \"services\", \n",
    "                    \"initial_stay\", \"daily_charge\", \"addl_charge\", \"surv1_timely_admit\", \"surv2_timely_treat\", \n",
    "                    \"surv3_timely_visit\", \"surv4_reliable\", \"surv5_options\", \"surv6_hours\", \"surv7_courteous\", \n",
    "                    \"surv8_dr_listen\"]\n",
    "\n",
    "# Implement new pythonic column headings\n",
    "df = df.set_axis(pythonic_columns, axis=1, copy=False)"
   ]
  },
  {
   "cell_type": "code",
   "execution_count": 54,
   "id": "38d64337",
   "metadata": {},
   "outputs": [
    {
     "name": "stdout",
     "output_type": "stream",
     "text": [
      "<class 'pandas.core.frame.DataFrame'>\n",
      "Int64Index: 10000 entries, 1 to 10000\n",
      "Data columns (total 52 columns):\n",
      " #   Column              Non-Null Count  Dtype   \n",
      "---  ------              --------------  -----   \n",
      " 0   case_order          10000 non-null  int64   \n",
      " 1   customer_id         10000 non-null  object  \n",
      " 2   interaction         10000 non-null  object  \n",
      " 3   uid                 10000 non-null  object  \n",
      " 4   city                10000 non-null  object  \n",
      " 5   state               10000 non-null  object  \n",
      " 6   county              10000 non-null  object  \n",
      " 7   zip_code            10000 non-null  object  \n",
      " 8   latitude            10000 non-null  float64 \n",
      " 9   longitude           10000 non-null  float64 \n",
      " 10  population          10000 non-null  int64   \n",
      " 11  area_type           10000 non-null  category\n",
      " 12  timezone            10000 non-null  category\n",
      " 13  job                 10000 non-null  object  \n",
      " 14  children            10000 non-null  Int64   \n",
      " 15  age                 10000 non-null  Int64   \n",
      " 16  education           10000 non-null  category\n",
      " 17  employment_status   10000 non-null  category\n",
      " 18  income              10000 non-null  float64 \n",
      " 19  marital_status      10000 non-null  category\n",
      " 20  gender              10000 non-null  category\n",
      " 21  readmission         10000 non-null  bool    \n",
      " 22  vitamin_d_level     10000 non-null  float64 \n",
      " 23  dr_visits           10000 non-null  int64   \n",
      " 24  full_meals          10000 non-null  int64   \n",
      " 25  vit_d_supp          10000 non-null  int64   \n",
      " 26  soft_drink          10000 non-null  bool    \n",
      " 27  initial_admit       10000 non-null  category\n",
      " 28  high_bp             10000 non-null  bool    \n",
      " 29  stroke              10000 non-null  bool    \n",
      " 30  complication_risk   10000 non-null  category\n",
      " 31  overweight          10000 non-null  bool    \n",
      " 32  arthritis           10000 non-null  bool    \n",
      " 33  diabetes            10000 non-null  bool    \n",
      " 34  hyperlipidemia      10000 non-null  bool    \n",
      " 35  back_pain           10000 non-null  bool    \n",
      " 36  anxiety             10000 non-null  bool    \n",
      " 37  allergic_rhinitis   10000 non-null  bool    \n",
      " 38  reflux_esophagitis  10000 non-null  bool    \n",
      " 39  asthma              10000 non-null  bool    \n",
      " 40  services            10000 non-null  category\n",
      " 41  initial_stay        10000 non-null  int64   \n",
      " 42  daily_charge        10000 non-null  float64 \n",
      " 43  addl_charge         10000 non-null  float64 \n",
      " 44  surv1_timely_admit  10000 non-null  category\n",
      " 45  surv2_timely_treat  10000 non-null  category\n",
      " 46  surv3_timely_visit  10000 non-null  category\n",
      " 47  surv4_reliable      10000 non-null  category\n",
      " 48  surv5_options       10000 non-null  category\n",
      " 49  surv6_hours         10000 non-null  category\n",
      " 50  surv7_courteous     10000 non-null  category\n",
      " 51  surv8_dr_listen     10000 non-null  category\n",
      "dtypes: Int64(2), bool(13), category(17), float64(6), int64(6), object(8)\n",
      "memory usage: 2.1+ MB\n"
     ]
    }
   ],
   "source": [
    "# Verify data has been cleaned\n",
    "df.info()"
   ]
  },
  {
   "cell_type": "markdown",
   "id": "d28bfeae",
   "metadata": {},
   "source": [
    "<a id='PartD5'></a>\n",
    "## D5: Copy of Cleaned Data Set\n",
    "\n",
    "A copy of the cleaned dataset is submitted alongside this report as output.csv. A preview can also be seen here:"
   ]
  },
  {
   "cell_type": "code",
   "execution_count": 55,
   "id": "ba073ec2",
   "metadata": {
    "scrolled": true
   },
   "outputs": [],
   "source": [
    "# Save dataframe to CSV, ignore index (if included, this will create an additional unnecessary column)\n",
    "df.to_csv('output.csv', index=False)"
   ]
  },
  {
   "cell_type": "markdown",
   "id": "c443c9ec",
   "metadata": {},
   "source": [
    "<a id='PartD6'></a>\n",
    "## D6: Limitations of Data Cleaning Process\n",
    "\n",
    "As a novice in data analysis, I am uncertain about the origin of NaNs in the Initial_days column. It may not be ideal to replace these NaNs with zeros without knowing the reason behind their existence. Even though this replacement may not affect the overall look of the data, it is worth considering that adding zeros to a column that previously had none might have implications for future data analysis. With several zeros inserted, the way I analyze the data later could be significantly affected.\n",
    "\n",
    "Univariate imputation used on children, age, and income, although straightforward, has limitations. It fails to capture relationships between variables, leading to biased imputations and the loss of vital information, which increased the central spike in their distributions. I chose this over Forward and backward filling as it is best used on consecutive or time-series data and to reduce erroneous datapoint. \n",
    "\n",
    "I have decided to keep the outliers in this dataset because none of them appeared to be mistaken or illogical. When data points are validated as authentic, it is recommended to retain them. However, their inclusion may skew statistical analysis, especially regarding central tendencies. Additionally, keeping them may be disadvantageous when using statistical models due to the significant variability they introduce. To ensure a comprehensive analysis, it is essential to consider both scenarios - analyzing the dataset with and without outliers - to facilitate a meaningful comparison.\n",
    "\n",
    "Additionally, there were broader constraints. My lack of expertise made it challenging to handle outliers and missing data. While following the guidelines in the data dictionary, reclassifying \"Prefer not to say\" as \"non-binary\" may not accurately reflect the patient's intention. For future data entry, variables transformed into categorical types might require updates with new category options, as they only accommodate the presently defined choices.\n",
    "\n",
    "\n",
    "## D7: Challenges Imposed by Limitations\n",
    "\n",
    "It's important to note that my lack of domain knowledge limited the assessment of floating point columns. In the case of the column containing Vitamin D levels and the columns containing currency in USD, I had to rely on assumptions. For the USD columns, I assumed that nearly all usage of USD is done to two digits of precision without considering whether there is a business necessity for the increased precision. I also lacked domain knowledge to know exactly how precise the Vitamin D tests are, so I reduced the precision to 3 digits from 6. However, since my original research question did not focus on these variables, this should not significantly impact any analysis aimed at answering my original research question.\n",
    "\n",
    "In the gender column, the data presented three values: \"Male,\" \"Female,\" and \"Prefer not to say.\" According to the data dictionary, the outcome should be \"Male,\" \"Female,\" and \"Non-Binary,\" which implies that \"Prefer not to say\" should be classified as \"Non-Binary.\" However, this assumption may not be accurate, as people uncomfortable sharing their gender for privacy reasons may also choose the \"Prefer not to say\" option. Therefore, assuming that all \"Prefer not to say\" responses indicate non-binary gender may lead to inaccuracies and potentially harm individuals who are simply exercising reasonable privacy. It is important to note that my research question did not focus on gender variables, so this issue should not affect the analysis.\n",
    "\n",
    "I can only generate categories for each column based on the provided data for categorical data types. However, in case the original dataset of 10,000 entries does not include all possible strings that can be entered in a specific field, categorizing columns based on limited data may prevent the input of desired strings until the column's categories are updated. However, as my original research question did not focus on these variables, categorizing them should not affect an analysis aimed at answering the research question.\n",
    "\n",
    "Univariate imputation, although straightforward, has limitations. It fails to capture relationships between variables, leading to biased imputations and the loss of vital information. It also disregards the context of missing values, which can distort the true nature of the dataset. Univariate methods might underestimate variability and introduce bias, especially if missing values aren't random or if variables are interdependent.\n",
    "\n",
    "\n",
    "<a id='PartE1'></a>\n",
    "## E1: List Principal Components\n",
    "\n",
    "The variables used in the Principal Component Analysis (PCA) for this dataset were latitude, longitude, population, children, age, income, Vitamin D level, doctor visits, full meals, Vitamin D supplements, initial stay, daily charge, and additional charges. PCA requires quantifiable numeric data, and these variables represent all of the quantitative variables available in the dataset. \n",
    "\n",
    "Following is the PCA loadings matrix, with assistance from WGU Courseware resources. "
   ]
  },
  {
   "cell_type": "code",
   "execution_count": 56,
   "id": "23992dfa",
   "metadata": {},
   "outputs": [
    {
     "data": {
      "text/html": [
       "<div>\n",
       "<style scoped>\n",
       "    .dataframe tbody tr th:only-of-type {\n",
       "        vertical-align: middle;\n",
       "    }\n",
       "\n",
       "    .dataframe tbody tr th {\n",
       "        vertical-align: top;\n",
       "    }\n",
       "\n",
       "    .dataframe thead th {\n",
       "        text-align: right;\n",
       "    }\n",
       "</style>\n",
       "<table border=\"1\" class=\"dataframe\">\n",
       "  <thead>\n",
       "    <tr style=\"text-align: right;\">\n",
       "      <th></th>\n",
       "      <th>PC1</th>\n",
       "      <th>PC2</th>\n",
       "      <th>PC3</th>\n",
       "      <th>PC4</th>\n",
       "      <th>PC5</th>\n",
       "      <th>PC6</th>\n",
       "      <th>PC7</th>\n",
       "      <th>PC8</th>\n",
       "      <th>PC9</th>\n",
       "      <th>PC10</th>\n",
       "      <th>PC11</th>\n",
       "      <th>PC12</th>\n",
       "      <th>PC13</th>\n",
       "    </tr>\n",
       "  </thead>\n",
       "  <tbody>\n",
       "    <tr>\n",
       "      <th>latitude</th>\n",
       "      <td>-0.019983</td>\n",
       "      <td>-0.008090</td>\n",
       "      <td>-0.715305</td>\n",
       "      <td>0.124941</td>\n",
       "      <td>-0.037013</td>\n",
       "      <td>-0.046695</td>\n",
       "      <td>-0.042694</td>\n",
       "      <td>-0.058551</td>\n",
       "      <td>0.020711</td>\n",
       "      <td>-0.039405</td>\n",
       "      <td>0.679155</td>\n",
       "      <td>-0.014952</td>\n",
       "      <td>0.002620</td>\n",
       "    </tr>\n",
       "    <tr>\n",
       "      <th>longitude</th>\n",
       "      <td>-0.003468</td>\n",
       "      <td>0.016810</td>\n",
       "      <td>0.270512</td>\n",
       "      <td>-0.624446</td>\n",
       "      <td>-0.199067</td>\n",
       "      <td>-0.434924</td>\n",
       "      <td>0.346120</td>\n",
       "      <td>-0.098552</td>\n",
       "      <td>-0.109800</td>\n",
       "      <td>0.136996</td>\n",
       "      <td>0.383903</td>\n",
       "      <td>0.009594</td>\n",
       "      <td>0.000460</td>\n",
       "    </tr>\n",
       "    <tr>\n",
       "      <th>population</th>\n",
       "      <td>0.022700</td>\n",
       "      <td>-0.024908</td>\n",
       "      <td>0.631093</td>\n",
       "      <td>0.297825</td>\n",
       "      <td>0.114914</td>\n",
       "      <td>0.250258</td>\n",
       "      <td>-0.221893</td>\n",
       "      <td>0.006068</td>\n",
       "      <td>0.078904</td>\n",
       "      <td>-0.021344</td>\n",
       "      <td>0.616326</td>\n",
       "      <td>-0.015459</td>\n",
       "      <td>-0.000439</td>\n",
       "    </tr>\n",
       "    <tr>\n",
       "      <th>children</th>\n",
       "      <td>0.003422</td>\n",
       "      <td>0.011288</td>\n",
       "      <td>0.007808</td>\n",
       "      <td>0.291046</td>\n",
       "      <td>0.021899</td>\n",
       "      <td>0.281274</td>\n",
       "      <td>0.765682</td>\n",
       "      <td>-0.410230</td>\n",
       "      <td>0.208693</td>\n",
       "      <td>0.193017</td>\n",
       "      <td>-0.007151</td>\n",
       "      <td>-0.008884</td>\n",
       "      <td>0.001378</td>\n",
       "    </tr>\n",
       "    <tr>\n",
       "      <th>age</th>\n",
       "      <td>0.094444</td>\n",
       "      <td>0.699642</td>\n",
       "      <td>0.007049</td>\n",
       "      <td>0.006854</td>\n",
       "      <td>-0.027947</td>\n",
       "      <td>-0.000690</td>\n",
       "      <td>-0.012737</td>\n",
       "      <td>-0.003366</td>\n",
       "      <td>-0.008266</td>\n",
       "      <td>-0.029463</td>\n",
       "      <td>-0.002467</td>\n",
       "      <td>-0.706598</td>\n",
       "      <td>0.017536</td>\n",
       "    </tr>\n",
       "    <tr>\n",
       "      <th>income</th>\n",
       "      <td>-0.007696</td>\n",
       "      <td>-0.004802</td>\n",
       "      <td>0.045178</td>\n",
       "      <td>0.248387</td>\n",
       "      <td>0.450743</td>\n",
       "      <td>-0.313816</td>\n",
       "      <td>0.417879</td>\n",
       "      <td>0.392997</td>\n",
       "      <td>-0.311534</td>\n",
       "      <td>-0.453952</td>\n",
       "      <td>0.047740</td>\n",
       "      <td>-0.007436</td>\n",
       "      <td>0.000281</td>\n",
       "    </tr>\n",
       "    <tr>\n",
       "      <th>vitamin_d_level</th>\n",
       "      <td>0.558022</td>\n",
       "      <td>-0.066950</td>\n",
       "      <td>-0.044564</td>\n",
       "      <td>-0.213505</td>\n",
       "      <td>0.362661</td>\n",
       "      <td>-0.035524</td>\n",
       "      <td>-0.024680</td>\n",
       "      <td>-0.023833</td>\n",
       "      <td>0.422418</td>\n",
       "      <td>-0.077938</td>\n",
       "      <td>0.005927</td>\n",
       "      <td>-0.023669</td>\n",
       "      <td>-0.563463</td>\n",
       "    </tr>\n",
       "    <tr>\n",
       "      <th>dr_visits</th>\n",
       "      <td>-0.006511</td>\n",
       "      <td>0.013122</td>\n",
       "      <td>0.014048</td>\n",
       "      <td>0.173565</td>\n",
       "      <td>0.462898</td>\n",
       "      <td>-0.385643</td>\n",
       "      <td>-0.243245</td>\n",
       "      <td>-0.590358</td>\n",
       "      <td>-0.322198</td>\n",
       "      <td>0.302727</td>\n",
       "      <td>-0.057371</td>\n",
       "      <td>-0.005462</td>\n",
       "      <td>-0.000805</td>\n",
       "    </tr>\n",
       "    <tr>\n",
       "      <th>full_meals</th>\n",
       "      <td>-0.005479</td>\n",
       "      <td>0.035300</td>\n",
       "      <td>-0.103775</td>\n",
       "      <td>-0.262317</td>\n",
       "      <td>0.403324</td>\n",
       "      <td>0.422909</td>\n",
       "      <td>0.077356</td>\n",
       "      <td>0.382293</td>\n",
       "      <td>-0.304320</td>\n",
       "      <td>0.572550</td>\n",
       "      <td>0.070370</td>\n",
       "      <td>-0.009372</td>\n",
       "      <td>0.005149</td>\n",
       "    </tr>\n",
       "    <tr>\n",
       "      <th>vit_d_supp</th>\n",
       "      <td>0.033179</td>\n",
       "      <td>0.010276</td>\n",
       "      <td>0.031038</td>\n",
       "      <td>0.386239</td>\n",
       "      <td>-0.131873</td>\n",
       "      <td>-0.486421</td>\n",
       "      <td>0.020092</td>\n",
       "      <td>0.410340</td>\n",
       "      <td>0.353571</td>\n",
       "      <td>0.548107</td>\n",
       "      <td>-0.020344</td>\n",
       "      <td>-0.004889</td>\n",
       "      <td>-0.000374</td>\n",
       "    </tr>\n",
       "    <tr>\n",
       "      <th>initial_stay</th>\n",
       "      <td>0.419836</td>\n",
       "      <td>-0.075427</td>\n",
       "      <td>0.021017</td>\n",
       "      <td>0.254375</td>\n",
       "      <td>-0.464181</td>\n",
       "      <td>0.054070</td>\n",
       "      <td>0.042460</td>\n",
       "      <td>0.019028</td>\n",
       "      <td>-0.583546</td>\n",
       "      <td>0.091929</td>\n",
       "      <td>-0.005828</td>\n",
       "      <td>-0.006054</td>\n",
       "      <td>-0.428135</td>\n",
       "    </tr>\n",
       "    <tr>\n",
       "      <th>daily_charge</th>\n",
       "      <td>0.701518</td>\n",
       "      <td>-0.090637</td>\n",
       "      <td>-0.019343</td>\n",
       "      <td>-0.013536</td>\n",
       "      <td>0.006187</td>\n",
       "      <td>0.001178</td>\n",
       "      <td>0.003280</td>\n",
       "      <td>-0.009759</td>\n",
       "      <td>-0.014732</td>\n",
       "      <td>-0.010271</td>\n",
       "      <td>-0.000934</td>\n",
       "      <td>0.021558</td>\n",
       "      <td>0.705809</td>\n",
       "    </tr>\n",
       "    <tr>\n",
       "      <th>addl_charge</th>\n",
       "      <td>0.095563</td>\n",
       "      <td>0.699623</td>\n",
       "      <td>0.000845</td>\n",
       "      <td>0.026753</td>\n",
       "      <td>-0.002498</td>\n",
       "      <td>0.008440</td>\n",
       "      <td>-0.010453</td>\n",
       "      <td>-0.001148</td>\n",
       "      <td>0.000254</td>\n",
       "      <td>-0.022768</td>\n",
       "      <td>0.021124</td>\n",
       "      <td>0.706277</td>\n",
       "      <td>-0.026433</td>\n",
       "    </tr>\n",
       "  </tbody>\n",
       "</table>\n",
       "</div>"
      ],
      "text/plain": [
       "                      PC1       PC2       PC3       PC4       PC5       PC6  \\\n",
       "latitude        -0.019983 -0.008090 -0.715305  0.124941 -0.037013 -0.046695   \n",
       "longitude       -0.003468  0.016810  0.270512 -0.624446 -0.199067 -0.434924   \n",
       "population       0.022700 -0.024908  0.631093  0.297825  0.114914  0.250258   \n",
       "children         0.003422  0.011288  0.007808  0.291046  0.021899  0.281274   \n",
       "age              0.094444  0.699642  0.007049  0.006854 -0.027947 -0.000690   \n",
       "income          -0.007696 -0.004802  0.045178  0.248387  0.450743 -0.313816   \n",
       "vitamin_d_level  0.558022 -0.066950 -0.044564 -0.213505  0.362661 -0.035524   \n",
       "dr_visits       -0.006511  0.013122  0.014048  0.173565  0.462898 -0.385643   \n",
       "full_meals      -0.005479  0.035300 -0.103775 -0.262317  0.403324  0.422909   \n",
       "vit_d_supp       0.033179  0.010276  0.031038  0.386239 -0.131873 -0.486421   \n",
       "initial_stay     0.419836 -0.075427  0.021017  0.254375 -0.464181  0.054070   \n",
       "daily_charge     0.701518 -0.090637 -0.019343 -0.013536  0.006187  0.001178   \n",
       "addl_charge      0.095563  0.699623  0.000845  0.026753 -0.002498  0.008440   \n",
       "\n",
       "                      PC7       PC8       PC9      PC10      PC11      PC12  \\\n",
       "latitude        -0.042694 -0.058551  0.020711 -0.039405  0.679155 -0.014952   \n",
       "longitude        0.346120 -0.098552 -0.109800  0.136996  0.383903  0.009594   \n",
       "population      -0.221893  0.006068  0.078904 -0.021344  0.616326 -0.015459   \n",
       "children         0.765682 -0.410230  0.208693  0.193017 -0.007151 -0.008884   \n",
       "age             -0.012737 -0.003366 -0.008266 -0.029463 -0.002467 -0.706598   \n",
       "income           0.417879  0.392997 -0.311534 -0.453952  0.047740 -0.007436   \n",
       "vitamin_d_level -0.024680 -0.023833  0.422418 -0.077938  0.005927 -0.023669   \n",
       "dr_visits       -0.243245 -0.590358 -0.322198  0.302727 -0.057371 -0.005462   \n",
       "full_meals       0.077356  0.382293 -0.304320  0.572550  0.070370 -0.009372   \n",
       "vit_d_supp       0.020092  0.410340  0.353571  0.548107 -0.020344 -0.004889   \n",
       "initial_stay     0.042460  0.019028 -0.583546  0.091929 -0.005828 -0.006054   \n",
       "daily_charge     0.003280 -0.009759 -0.014732 -0.010271 -0.000934  0.021558   \n",
       "addl_charge     -0.010453 -0.001148  0.000254 -0.022768  0.021124  0.706277   \n",
       "\n",
       "                     PC13  \n",
       "latitude         0.002620  \n",
       "longitude        0.000460  \n",
       "population      -0.000439  \n",
       "children         0.001378  \n",
       "age              0.017536  \n",
       "income           0.000281  \n",
       "vitamin_d_level -0.563463  \n",
       "dr_visits       -0.000805  \n",
       "full_meals       0.005149  \n",
       "vit_d_supp      -0.000374  \n",
       "initial_stay    -0.428135  \n",
       "daily_charge     0.705809  \n",
       "addl_charge     -0.026433  "
      ]
     },
     "execution_count": 56,
     "metadata": {},
     "output_type": "execute_result"
    }
   ],
   "source": [
    "# Store all quantitative variables in a new data frame for the Principal Component Analysis\n",
    "df_pca = df[[\"latitude\", \"longitude\", \"population\", \"children\", \"age\", \"income\", \"vitamin_d_level\", \"dr_visits\", \"full_meals\", \"vit_d_supp\", \"initial_stay\", \"daily_charge\", \"addl_charge\"]]\n",
    "\n",
    "# Normalize all columns by subtracting the mean from the value and then dividing by the standard deviation\n",
    "df_pca_normalized = (df_pca-df_pca.mean())/df_pca.std()\n",
    "\n",
    "# Set size of the Principal Component Analysis in terms of number of input components (PC's)\n",
    "pca = PCA(n_components=df_pca.shape[1])\n",
    "\n",
    "# Fit normalized data onto our Principal Component Analysis\n",
    "pca.fit(df_pca_normalized)\n",
    "\n",
    "# This allows us to print the data within the PCA, if desired, in a dataframe\n",
    "pca_printable = pd.DataFrame(pca.transform(df_pca_normalized), columns=[\"PC1\", \"PC2\", \"PC3\", \"PC4\", \"PC5\", \n",
    "                                                                 \"PC6\", \"PC7\", \"PC8\", \"PC9\", \"PC10\", \"PC11\", \"PC12\", \"PC13\"])\n",
    "# Generate dateframe of each component of the PCA and its loading\n",
    "pca_loadings = pd.DataFrame(pca.components_.T, columns = [\"PC1\", \"PC2\", \"PC3\", \"PC4\", \"PC5\", \n",
    "                                                          \"PC6\", \"PC7\", \"PC8\", \"PC9\", \"PC10\", \"PC11\", \"PC12\", \"PC13\"],\n",
    "                            index=df_pca_normalized.columns)\n",
    "# Print out the component loadings (correlation coefficients of each Principal Component)\n",
    "pca_loadings"
   ]
  },
  {
   "cell_type": "markdown",
   "id": "5f733a97",
   "metadata": {},
   "source": [
    "<a id='PartE2'></a>\n",
    "## E2: Identification of Principal Components\n",
    "\n",
    "With the help of WGU Courseware resources, I used a visualization technique to plot the eigenvalues of each principal component in the dataset. This helped me to identify the components that have an eigenvalue greater than 1, which is consistent with the Kaiser Rule."
   ]
  },
  {
   "cell_type": "code",
   "execution_count": 57,
   "id": "ac4e0ae2",
   "metadata": {},
   "outputs": [
    {
     "data": {
      "image/png": "[encoded data removed]",
      "text/plain": [
       "<Figure size 2000x1000 with 1 Axes>"
      ]
     },
     "metadata": {},
     "output_type": "display_data"
    }
   ],
   "source": [
    "covariance_matrix = np.dot(df_pca_normalized.T, df_pca_normalized) / df_pca.shape[0]\n",
    "eigenvalues = [np.dot(eigenvector.T, np.dot(covariance_matrix, eigenvector)) for eigenvector in pca.components_]\n",
    "\n",
    "plt.figure(figsize = [20,10])\n",
    "plt.plot(eigenvalues)\n",
    "plt.xlabel('# of Components')\n",
    "plt.ylabel('Eigenvalues')\n",
    "plt.axhline(y=1, color='red')\n",
    "plt.show()"
   ]
  },
  {
   "cell_type": "code",
   "execution_count": 58,
   "id": "3197b08b",
   "metadata": {},
   "outputs": [
    {
     "data": {
      "text/plain": [
       "[1.917592254276536,\n",
       " 1.6179634848128575,\n",
       " 1.226431575679194,\n",
       " 1.0423795975681247,\n",
       " 1.0265086935462115,\n",
       " 1.0216145270627373,\n",
       " 0.9979863846315198,\n",
       " 0.9852879440519579,\n",
       " 0.9832547152303548,\n",
       " 0.9713747665598653,\n",
       " 0.7466522091308317,\n",
       " 0.3781032651313506,\n",
       " 0.08355058231839411]"
      ]
     },
     "execution_count": 58,
     "metadata": {},
     "output_type": "execute_result"
    }
   ],
   "source": [
    "eigenvalues"
   ]
  },
  {
   "cell_type": "markdown",
   "id": "ca0bf2a4",
   "metadata": {},
   "source": [
    "The graph above indicates that the first six principal components have eigenvalues above 1, while components 7 through 13 have eigenvalues below 1 and are thus discarded.\n",
    "\n",
    "<a id='PartE3'></a>\n",
    "## E3: Benefits of Principal Component Analysis\n",
    "\n",
    "Across a dataset with numerous variables, Principal Component Analysis lets us break these down into fewer dimensions, with each one representing several \"like\" variables (Towards Data Science, 2017). PCA does require quantitative variables, which there are relatively few of in this data, and those variables to have a relationship with each other. In this dataset, the days spent in the hospital, the total charges, and the additional charges can all be understood to have a relationship with each other, as they are all measures that can be understood to relate to the \"severity of initial complaint\" because a more serious problem *generally* requires a longer hospitalization and more involved (and expensive) care. Rather than testing each of these variables against readmission, PCA combines these variables (and others) into a single element, which can then be tested against readmission. Depending on the nature of the analysis performed and the variables available, this could be expanded to include several other variables. In this way, rather than testing every variable against readmission, we can test much fewer variables instead.  \n",
    "\n",
    "<a id='PartF'></a>\n",
    "## F: Panopto Recording\n",
    "A Panopto recording of my code in action and my explanation of my report can be found here: https://wgu.hosted.panopto.com/Panopto/Pages/Viewer.aspx?id=ffd99caf-f095-47bd-ac8d-b0d700c0f368\n",
    "\n",
    "<a id='PartG'></a>\n",
    "## G: Code References\n",
    "\n",
    "[Pandas documentation on categorical data types](https://pandas.pydata.org/docs/user_guide/categorical.html) was used for establishing the ordered categorical datatype. \n",
    "\n",
    "[Pandas documentation on experimental Int64 data type](https://pandas.pydata.org/pandas-docs/stable/user_guide/integer_na.html) was used for casting float columns as integers while preserving null values. \n",
    "\n",
    "[WGU Courseware resources](https://wgu.hosted.panopto.com/Panopto/Pages/Viewer.aspx?id=b627935e-73f8-41ad-b97b-af1e000d3015) was used to help write the code for the PCA portion (Part E) of this project. \n",
    "\n",
    "[Code snippit](https://www.appsloveworld.com/pandas/100/85/how-to-i-export-data-with-leading-zeros-from-pandas-to-csv-preserving-the-leading) was used preserve leading zero for the zip_code column when exporting the to a csv file\n",
    "\n",
    "[Stackover flow post](https://stackoverflow.com/questions/52089711/why-is-astypebool-converting-all-values-to-true) was used maintain data intergity around columns that were recasted as booleans using `astype('bool')` function.\n",
    "\n",
    "\n",
    "<a id='PartH'></a>\n",
    "## H: Source References\n",
    "\n",
    "[WGU Courseware resources](https://wgu.hosted.panopto.com/Panopto/Pages/Viewer.aspx?id=b627935e-73f8-41ad-b97b-af1e000d3015) in addition to being used to help write the code, this lecture was useful for understanding PCA in general. \n",
    "\n",
    "[Matt Brems, Towards Data Science](https://towardsdatascience.com/a-one-stop-shop-for-principal-component-analysis-5582fb7e0a9c) was used to help understand the concepts of Principal Component Analysis, both why its worthwhile and how exactly it works.\n",
    "\n",
    "[High blood pressure dangers: Hypertension's effects on your body](https://www.mayoclinic.org/diseases-conditions/high-blood-pressure/in-depth/high-blood-pressure/art-20045868) was used to understand the overall impact of High Blood Pressure."
   ]
  },
  {
   "cell_type": "code",
   "execution_count": null,
   "id": "89d1c5ce",
   "metadata": {},
   "outputs": [],
   "source": []
  }
 ],
 "metadata": {
  "celltoolbar": "Tags",
  "kernelspec": {
   "display_name": "Python 3 (ipykernel)",
   "language": "python",
   "name": "python3"
  },
  "language_info": {
   "codemirror_mode": {
    "name": "ipython",
    "version": 3
   },
   "file_extension": ".py",
   "mimetype": "text/x-python",
   "name": "python",
   "nbconvert_exporter": "python",
   "pygments_lexer": "ipython3",
   "version": "3.11.3"
  }
 },
 "nbformat": 4,
 "nbformat_minor": 5
}
